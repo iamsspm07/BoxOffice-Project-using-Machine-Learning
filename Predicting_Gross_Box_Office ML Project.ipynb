{
  "cells": [
    {
      "cell_type": "markdown",
      "id": "911ac942",
      "metadata": {
        "id": "911ac942"
      },
      "source": [
        "# Box Office Revenue Analysis and Prediction"
      ]
    },
    {
      "cell_type": "markdown",
      "id": "0b48027e",
      "metadata": {
        "id": "0b48027e"
      },
      "source": [
        "# INTRODUCTION AND PROBLEM STATEMENT\n",
        "\n",
        "In recent years, the movie market has been growing larger each year. This industry generates approximately billions dollars of revenue annually. The question of what makes a film successful has been asked for over the years, not just by you and me, large companies like Twenty First Century Fox, Universal Studios award million prizes to those who can improve their recommendation and prediction algorithms. This project attempts to address this question by using machine learning techniques to predict film box office."
      ]
    },
    {
      "cell_type": "markdown",
      "id": "680f1ee0",
      "metadata": {
        "id": "680f1ee0"
      },
      "source": [
        "<h1><font color='blue'>Import required libraries</font></h1>"
      ]
    },
    {
      "cell_type": "code",
      "execution_count": null,
      "id": "8f272f26",
      "metadata": {
        "id": "8f272f26"
      },
      "outputs": [],
      "source": [
        "import pandas as pd\n",
        "import numpy as np\n",
        "\n",
        "import seaborn as sns\n",
        "from math import sqrt\n",
        "import matplotlib.pyplot as plt\n",
        "import sklearn.metrics as metrics\n",
        "from sklearn.metrics import r2_score\n",
        "from sklearn.metrics import accuracy_score\n",
        "from sklearn.metrics import mean_squared_error\n",
        "from sklearn.linear_model import LinearRegression\n",
        "from sklearn.model_selection import train_test_split\n",
        "\n",
        "\n",
        "%matplotlib inline\n",
        "plt.style.use('dark_background')\n",
        "\n",
        "import warnings\n",
        "warnings.filterwarnings('ignore')"
      ]
    },
    {
      "cell_type": "markdown",
      "id": "bb72d1ed",
      "metadata": {
        "id": "bb72d1ed"
      },
      "source": [
        "<h1><font color='blue'>Data Loading & Exploration</font></h1>"
      ]
    },
    {
      "cell_type": "code",
      "execution_count": null,
      "id": "acd6220d",
      "metadata": {
        "id": "acd6220d"
      },
      "outputs": [],
      "source": [
        "# Load the dataset into the movie name dataframe\n",
        "movie = pd.read_csv(r\"C:\\Users\\localadmin\\Documents\\NPCI PROJECT\\Movie_data.csv\")"
      ]
    },
    {
      "cell_type": "markdown",
      "id": "6927392b",
      "metadata": {
        "id": "6927392b"
      },
      "source": [
        "##### Let's have look at the data"
      ]
    },
    {
      "cell_type": "code",
      "execution_count": null,
      "id": "3a0a0748",
      "metadata": {
        "colab": {
          "base_uri": "https://localhost:8080/",
          "height": 560
        },
        "id": "3a0a0748",
        "outputId": "329fe6be-ec2c-482b-ac0e-364ff425b1f0"
      },
      "outputs": [
        {
          "data": {
            "text/html": [
              "<div>\n",
              "<style scoped>\n",
              "    .dataframe tbody tr th:only-of-type {\n",
              "        vertical-align: middle;\n",
              "    }\n",
              "\n",
              "    .dataframe tbody tr th {\n",
              "        vertical-align: top;\n",
              "    }\n",
              "\n",
              "    .dataframe thead th {\n",
              "        text-align: right;\n",
              "    }\n",
              "</style>\n",
              "<table border=\"1\" class=\"dataframe\">\n",
              "  <thead>\n",
              "    <tr style=\"text-align: right;\">\n",
              "      <th></th>\n",
              "      <th>color</th>\n",
              "      <th>director_name</th>\n",
              "      <th>num_critic_for_reviews</th>\n",
              "      <th>duration</th>\n",
              "      <th>director_facebook_likes</th>\n",
              "      <th>actor_3_facebook_likes</th>\n",
              "      <th>actor_2_name</th>\n",
              "      <th>actor_1_facebook_likes</th>\n",
              "      <th>gross</th>\n",
              "      <th>genres</th>\n",
              "      <th>...</th>\n",
              "      <th>num_user_for_reviews</th>\n",
              "      <th>language</th>\n",
              "      <th>country</th>\n",
              "      <th>content_rating</th>\n",
              "      <th>budget</th>\n",
              "      <th>title_year</th>\n",
              "      <th>actor_2_facebook_likes</th>\n",
              "      <th>imdb_score</th>\n",
              "      <th>aspect_ratio</th>\n",
              "      <th>movie_facebook_likes</th>\n",
              "    </tr>\n",
              "  </thead>\n",
              "  <tbody>\n",
              "    <tr>\n",
              "      <th>0</th>\n",
              "      <td>Color</td>\n",
              "      <td>James Cameron</td>\n",
              "      <td>723.0</td>\n",
              "      <td>178.0</td>\n",
              "      <td>0.0</td>\n",
              "      <td>855.0</td>\n",
              "      <td>Joel David Moore</td>\n",
              "      <td>1000.0</td>\n",
              "      <td>760505847.0</td>\n",
              "      <td>Action|Adventure|Fantasy|Sci-Fi</td>\n",
              "      <td>...</td>\n",
              "      <td>3054.0</td>\n",
              "      <td>English</td>\n",
              "      <td>USA</td>\n",
              "      <td>PG-13</td>\n",
              "      <td>237000000.0</td>\n",
              "      <td>2009.0</td>\n",
              "      <td>936.0</td>\n",
              "      <td>7.9</td>\n",
              "      <td>1.78</td>\n",
              "      <td>33000</td>\n",
              "    </tr>\n",
              "    <tr>\n",
              "      <th>1</th>\n",
              "      <td>Color</td>\n",
              "      <td>Gore Verbinski</td>\n",
              "      <td>302.0</td>\n",
              "      <td>169.0</td>\n",
              "      <td>563.0</td>\n",
              "      <td>1000.0</td>\n",
              "      <td>Orlando Bloom</td>\n",
              "      <td>40000.0</td>\n",
              "      <td>309404152.0</td>\n",
              "      <td>Action|Adventure|Fantasy</td>\n",
              "      <td>...</td>\n",
              "      <td>1238.0</td>\n",
              "      <td>English</td>\n",
              "      <td>USA</td>\n",
              "      <td>PG-13</td>\n",
              "      <td>300000000.0</td>\n",
              "      <td>2007.0</td>\n",
              "      <td>5000.0</td>\n",
              "      <td>7.1</td>\n",
              "      <td>2.35</td>\n",
              "      <td>0</td>\n",
              "    </tr>\n",
              "    <tr>\n",
              "      <th>2</th>\n",
              "      <td>Color</td>\n",
              "      <td>Sam Mendes</td>\n",
              "      <td>602.0</td>\n",
              "      <td>148.0</td>\n",
              "      <td>0.0</td>\n",
              "      <td>161.0</td>\n",
              "      <td>Rory Kinnear</td>\n",
              "      <td>11000.0</td>\n",
              "      <td>200074175.0</td>\n",
              "      <td>Action|Adventure|Thriller</td>\n",
              "      <td>...</td>\n",
              "      <td>994.0</td>\n",
              "      <td>English</td>\n",
              "      <td>UK</td>\n",
              "      <td>PG-13</td>\n",
              "      <td>245000000.0</td>\n",
              "      <td>2015.0</td>\n",
              "      <td>393.0</td>\n",
              "      <td>6.8</td>\n",
              "      <td>2.35</td>\n",
              "      <td>85000</td>\n",
              "    </tr>\n",
              "    <tr>\n",
              "      <th>3</th>\n",
              "      <td>Color</td>\n",
              "      <td>Christopher Nolan</td>\n",
              "      <td>813.0</td>\n",
              "      <td>164.0</td>\n",
              "      <td>22000.0</td>\n",
              "      <td>23000.0</td>\n",
              "      <td>Christian Bale</td>\n",
              "      <td>27000.0</td>\n",
              "      <td>448130642.0</td>\n",
              "      <td>Action|Thriller</td>\n",
              "      <td>...</td>\n",
              "      <td>2701.0</td>\n",
              "      <td>English</td>\n",
              "      <td>USA</td>\n",
              "      <td>PG-13</td>\n",
              "      <td>250000000.0</td>\n",
              "      <td>2012.0</td>\n",
              "      <td>23000.0</td>\n",
              "      <td>8.5</td>\n",
              "      <td>2.35</td>\n",
              "      <td>164000</td>\n",
              "    </tr>\n",
              "    <tr>\n",
              "      <th>4</th>\n",
              "      <td>NaN</td>\n",
              "      <td>Doug Walker</td>\n",
              "      <td>NaN</td>\n",
              "      <td>NaN</td>\n",
              "      <td>131.0</td>\n",
              "      <td>NaN</td>\n",
              "      <td>Rob Walker</td>\n",
              "      <td>131.0</td>\n",
              "      <td>NaN</td>\n",
              "      <td>Documentary</td>\n",
              "      <td>...</td>\n",
              "      <td>NaN</td>\n",
              "      <td>NaN</td>\n",
              "      <td>NaN</td>\n",
              "      <td>NaN</td>\n",
              "      <td>NaN</td>\n",
              "      <td>NaN</td>\n",
              "      <td>12.0</td>\n",
              "      <td>7.1</td>\n",
              "      <td>NaN</td>\n",
              "      <td>0</td>\n",
              "    </tr>\n",
              "    <tr>\n",
              "      <th>5</th>\n",
              "      <td>Color</td>\n",
              "      <td>Andrew Stanton</td>\n",
              "      <td>462.0</td>\n",
              "      <td>132.0</td>\n",
              "      <td>475.0</td>\n",
              "      <td>530.0</td>\n",
              "      <td>Samantha Morton</td>\n",
              "      <td>640.0</td>\n",
              "      <td>73058679.0</td>\n",
              "      <td>Action|Adventure|Sci-Fi</td>\n",
              "      <td>...</td>\n",
              "      <td>738.0</td>\n",
              "      <td>English</td>\n",
              "      <td>USA</td>\n",
              "      <td>PG-13</td>\n",
              "      <td>263700000.0</td>\n",
              "      <td>2012.0</td>\n",
              "      <td>632.0</td>\n",
              "      <td>6.6</td>\n",
              "      <td>2.35</td>\n",
              "      <td>24000</td>\n",
              "    </tr>\n",
              "    <tr>\n",
              "      <th>6</th>\n",
              "      <td>Color</td>\n",
              "      <td>Sam Raimi</td>\n",
              "      <td>392.0</td>\n",
              "      <td>156.0</td>\n",
              "      <td>0.0</td>\n",
              "      <td>4000.0</td>\n",
              "      <td>James Franco</td>\n",
              "      <td>24000.0</td>\n",
              "      <td>336530303.0</td>\n",
              "      <td>Action|Adventure|Romance</td>\n",
              "      <td>...</td>\n",
              "      <td>1902.0</td>\n",
              "      <td>English</td>\n",
              "      <td>USA</td>\n",
              "      <td>PG-13</td>\n",
              "      <td>258000000.0</td>\n",
              "      <td>2007.0</td>\n",
              "      <td>11000.0</td>\n",
              "      <td>6.2</td>\n",
              "      <td>2.35</td>\n",
              "      <td>0</td>\n",
              "    </tr>\n",
              "    <tr>\n",
              "      <th>7</th>\n",
              "      <td>Color</td>\n",
              "      <td>Nathan Greno</td>\n",
              "      <td>324.0</td>\n",
              "      <td>100.0</td>\n",
              "      <td>15.0</td>\n",
              "      <td>284.0</td>\n",
              "      <td>Donna Murphy</td>\n",
              "      <td>799.0</td>\n",
              "      <td>200807262.0</td>\n",
              "      <td>Adventure|Animation|Comedy|Family|Fantasy|Musi...</td>\n",
              "      <td>...</td>\n",
              "      <td>387.0</td>\n",
              "      <td>English</td>\n",
              "      <td>USA</td>\n",
              "      <td>PG</td>\n",
              "      <td>260000000.0</td>\n",
              "      <td>2010.0</td>\n",
              "      <td>553.0</td>\n",
              "      <td>7.8</td>\n",
              "      <td>1.85</td>\n",
              "      <td>29000</td>\n",
              "    </tr>\n",
              "    <tr>\n",
              "      <th>8</th>\n",
              "      <td>Color</td>\n",
              "      <td>Joss Whedon</td>\n",
              "      <td>635.0</td>\n",
              "      <td>141.0</td>\n",
              "      <td>0.0</td>\n",
              "      <td>19000.0</td>\n",
              "      <td>Robert Downey Jr.</td>\n",
              "      <td>26000.0</td>\n",
              "      <td>458991599.0</td>\n",
              "      <td>Action|Adventure|Sci-Fi</td>\n",
              "      <td>...</td>\n",
              "      <td>1117.0</td>\n",
              "      <td>English</td>\n",
              "      <td>USA</td>\n",
              "      <td>PG-13</td>\n",
              "      <td>250000000.0</td>\n",
              "      <td>2015.0</td>\n",
              "      <td>21000.0</td>\n",
              "      <td>7.5</td>\n",
              "      <td>2.35</td>\n",
              "      <td>118000</td>\n",
              "    </tr>\n",
              "    <tr>\n",
              "      <th>9</th>\n",
              "      <td>Color</td>\n",
              "      <td>David Yates</td>\n",
              "      <td>375.0</td>\n",
              "      <td>153.0</td>\n",
              "      <td>282.0</td>\n",
              "      <td>10000.0</td>\n",
              "      <td>Daniel Radcliffe</td>\n",
              "      <td>25000.0</td>\n",
              "      <td>301956980.0</td>\n",
              "      <td>Adventure|Family|Fantasy|Mystery</td>\n",
              "      <td>...</td>\n",
              "      <td>973.0</td>\n",
              "      <td>English</td>\n",
              "      <td>UK</td>\n",
              "      <td>PG</td>\n",
              "      <td>250000000.0</td>\n",
              "      <td>2009.0</td>\n",
              "      <td>11000.0</td>\n",
              "      <td>7.5</td>\n",
              "      <td>2.35</td>\n",
              "      <td>10000</td>\n",
              "    </tr>\n",
              "  </tbody>\n",
              "</table>\n",
              "<p>10 rows × 28 columns</p>\n",
              "</div>"
            ],
            "text/plain": [
              "   color      director_name  num_critic_for_reviews  duration  \\\n",
              "0  Color      James Cameron                   723.0     178.0   \n",
              "1  Color     Gore Verbinski                   302.0     169.0   \n",
              "2  Color         Sam Mendes                   602.0     148.0   \n",
              "3  Color  Christopher Nolan                   813.0     164.0   \n",
              "4    NaN        Doug Walker                     NaN       NaN   \n",
              "5  Color     Andrew Stanton                   462.0     132.0   \n",
              "6  Color          Sam Raimi                   392.0     156.0   \n",
              "7  Color       Nathan Greno                   324.0     100.0   \n",
              "8  Color        Joss Whedon                   635.0     141.0   \n",
              "9  Color        David Yates                   375.0     153.0   \n",
              "\n",
              "   director_facebook_likes  actor_3_facebook_likes       actor_2_name  \\\n",
              "0                      0.0                   855.0   Joel David Moore   \n",
              "1                    563.0                  1000.0      Orlando Bloom   \n",
              "2                      0.0                   161.0       Rory Kinnear   \n",
              "3                  22000.0                 23000.0     Christian Bale   \n",
              "4                    131.0                     NaN         Rob Walker   \n",
              "5                    475.0                   530.0    Samantha Morton   \n",
              "6                      0.0                  4000.0       James Franco   \n",
              "7                     15.0                   284.0       Donna Murphy   \n",
              "8                      0.0                 19000.0  Robert Downey Jr.   \n",
              "9                    282.0                 10000.0   Daniel Radcliffe   \n",
              "\n",
              "   actor_1_facebook_likes        gross  \\\n",
              "0                  1000.0  760505847.0   \n",
              "1                 40000.0  309404152.0   \n",
              "2                 11000.0  200074175.0   \n",
              "3                 27000.0  448130642.0   \n",
              "4                   131.0          NaN   \n",
              "5                   640.0   73058679.0   \n",
              "6                 24000.0  336530303.0   \n",
              "7                   799.0  200807262.0   \n",
              "8                 26000.0  458991599.0   \n",
              "9                 25000.0  301956980.0   \n",
              "\n",
              "                                              genres  ...  \\\n",
              "0                    Action|Adventure|Fantasy|Sci-Fi  ...   \n",
              "1                           Action|Adventure|Fantasy  ...   \n",
              "2                          Action|Adventure|Thriller  ...   \n",
              "3                                    Action|Thriller  ...   \n",
              "4                                        Documentary  ...   \n",
              "5                            Action|Adventure|Sci-Fi  ...   \n",
              "6                           Action|Adventure|Romance  ...   \n",
              "7  Adventure|Animation|Comedy|Family|Fantasy|Musi...  ...   \n",
              "8                            Action|Adventure|Sci-Fi  ...   \n",
              "9                   Adventure|Family|Fantasy|Mystery  ...   \n",
              "\n",
              "  num_user_for_reviews language  country  content_rating       budget  \\\n",
              "0               3054.0  English      USA           PG-13  237000000.0   \n",
              "1               1238.0  English      USA           PG-13  300000000.0   \n",
              "2                994.0  English       UK           PG-13  245000000.0   \n",
              "3               2701.0  English      USA           PG-13  250000000.0   \n",
              "4                  NaN      NaN      NaN             NaN          NaN   \n",
              "5                738.0  English      USA           PG-13  263700000.0   \n",
              "6               1902.0  English      USA           PG-13  258000000.0   \n",
              "7                387.0  English      USA              PG  260000000.0   \n",
              "8               1117.0  English      USA           PG-13  250000000.0   \n",
              "9                973.0  English       UK              PG  250000000.0   \n",
              "\n",
              "   title_year actor_2_facebook_likes imdb_score  aspect_ratio  \\\n",
              "0      2009.0                  936.0        7.9          1.78   \n",
              "1      2007.0                 5000.0        7.1          2.35   \n",
              "2      2015.0                  393.0        6.8          2.35   \n",
              "3      2012.0                23000.0        8.5          2.35   \n",
              "4         NaN                   12.0        7.1           NaN   \n",
              "5      2012.0                  632.0        6.6          2.35   \n",
              "6      2007.0                11000.0        6.2          2.35   \n",
              "7      2010.0                  553.0        7.8          1.85   \n",
              "8      2015.0                21000.0        7.5          2.35   \n",
              "9      2009.0                11000.0        7.5          2.35   \n",
              "\n",
              "  movie_facebook_likes  \n",
              "0                33000  \n",
              "1                    0  \n",
              "2                85000  \n",
              "3               164000  \n",
              "4                    0  \n",
              "5                24000  \n",
              "6                    0  \n",
              "7                29000  \n",
              "8               118000  \n",
              "9                10000  \n",
              "\n",
              "[10 rows x 28 columns]"
            ]
          },
          "execution_count": 115,
          "metadata": {},
          "output_type": "execute_result"
        }
      ],
      "source": [
        "movie.head(10)"
      ]
    },
    {
      "cell_type": "markdown",
      "id": "04eebd7f",
      "metadata": {
        "id": "04eebd7f"
      },
      "source": [
        "#### Let's get some statistics about the data"
      ]
    },
    {
      "cell_type": "code",
      "execution_count": null,
      "id": "64b87fa0",
      "metadata": {
        "colab": {
          "base_uri": "https://localhost:8080/"
        },
        "id": "64b87fa0",
        "outputId": "a0264087-3688-4741-e167-63739c521e38"
      },
      "outputs": [
        {
          "data": {
            "text/plain": [
              "(5043, 28)"
            ]
          },
          "execution_count": 116,
          "metadata": {},
          "output_type": "execute_result"
        }
      ],
      "source": [
        "movie.shape"
      ]
    },
    {
      "cell_type": "code",
      "execution_count": null,
      "id": "713293ce",
      "metadata": {
        "colab": {
          "base_uri": "https://localhost:8080/"
        },
        "id": "713293ce",
        "outputId": "64ad7129-eb7b-4239-fb69-fa3483179996"
      },
      "outputs": [
        {
          "name": "stdout",
          "output_type": "stream",
          "text": [
            "<class 'pandas.core.frame.DataFrame'>\n",
            "RangeIndex: 5043 entries, 0 to 5042\n",
            "Data columns (total 28 columns):\n",
            " #   Column                     Non-Null Count  Dtype  \n",
            "---  ------                     --------------  -----  \n",
            " 0   color                      5024 non-null   object \n",
            " 1   director_name              4939 non-null   object \n",
            " 2   num_critic_for_reviews     4993 non-null   float64\n",
            " 3   duration                   5028 non-null   float64\n",
            " 4   director_facebook_likes    4939 non-null   float64\n",
            " 5   actor_3_facebook_likes     5020 non-null   float64\n",
            " 6   actor_2_name               5030 non-null   object \n",
            " 7   actor_1_facebook_likes     5036 non-null   float64\n",
            " 8   gross                      4159 non-null   float64\n",
            " 9   genres                     5043 non-null   object \n",
            " 10  actor_1_name               5036 non-null   object \n",
            " 11  movie_title                5043 non-null   object \n",
            " 12  num_voted_users            5043 non-null   int64  \n",
            " 13  cast_total_facebook_likes  5043 non-null   int64  \n",
            " 14  actor_3_name               5020 non-null   object \n",
            " 15  facenumber_in_poster       5030 non-null   float64\n",
            " 16  plot_keywords              4890 non-null   object \n",
            " 17  movie_imdb_link            5043 non-null   object \n",
            " 18  num_user_for_reviews       5022 non-null   float64\n",
            " 19  language                   5031 non-null   object \n",
            " 20  country                    5038 non-null   object \n",
            " 21  content_rating             4740 non-null   object \n",
            " 22  budget                     4551 non-null   float64\n",
            " 23  title_year                 4935 non-null   float64\n",
            " 24  actor_2_facebook_likes     5030 non-null   float64\n",
            " 25  imdb_score                 5043 non-null   float64\n",
            " 26  aspect_ratio               4714 non-null   float64\n",
            " 27  movie_facebook_likes       5043 non-null   int64  \n",
            "dtypes: float64(13), int64(3), object(12)\n",
            "memory usage: 1.1+ MB\n"
          ]
        }
      ],
      "source": [
        "movie.info()"
      ]
    },
    {
      "cell_type": "code",
      "execution_count": null,
      "id": "ade545ed",
      "metadata": {
        "colab": {
          "base_uri": "https://localhost:8080/",
          "height": 364
        },
        "id": "ade545ed",
        "outputId": "e2cb9096-b85a-4fcb-92d3-0a673ef67aed"
      },
      "outputs": [
        {
          "data": {
            "text/html": [
              "<div>\n",
              "<style scoped>\n",
              "    .dataframe tbody tr th:only-of-type {\n",
              "        vertical-align: middle;\n",
              "    }\n",
              "\n",
              "    .dataframe tbody tr th {\n",
              "        vertical-align: top;\n",
              "    }\n",
              "\n",
              "    .dataframe thead th {\n",
              "        text-align: right;\n",
              "    }\n",
              "</style>\n",
              "<table border=\"1\" class=\"dataframe\">\n",
              "  <thead>\n",
              "    <tr style=\"text-align: right;\">\n",
              "      <th></th>\n",
              "      <th>num_critic_for_reviews</th>\n",
              "      <th>duration</th>\n",
              "      <th>director_facebook_likes</th>\n",
              "      <th>actor_3_facebook_likes</th>\n",
              "      <th>actor_1_facebook_likes</th>\n",
              "      <th>gross</th>\n",
              "      <th>num_voted_users</th>\n",
              "      <th>cast_total_facebook_likes</th>\n",
              "      <th>facenumber_in_poster</th>\n",
              "      <th>num_user_for_reviews</th>\n",
              "      <th>budget</th>\n",
              "      <th>title_year</th>\n",
              "      <th>actor_2_facebook_likes</th>\n",
              "      <th>imdb_score</th>\n",
              "      <th>aspect_ratio</th>\n",
              "      <th>movie_facebook_likes</th>\n",
              "    </tr>\n",
              "  </thead>\n",
              "  <tbody>\n",
              "    <tr>\n",
              "      <th>count</th>\n",
              "      <td>4993.000000</td>\n",
              "      <td>5028.000000</td>\n",
              "      <td>4939.000000</td>\n",
              "      <td>5020.000000</td>\n",
              "      <td>5036.000000</td>\n",
              "      <td>4.159000e+03</td>\n",
              "      <td>5.043000e+03</td>\n",
              "      <td>5043.000000</td>\n",
              "      <td>5030.000000</td>\n",
              "      <td>5022.000000</td>\n",
              "      <td>4.551000e+03</td>\n",
              "      <td>4935.000000</td>\n",
              "      <td>5030.000000</td>\n",
              "      <td>5043.000000</td>\n",
              "      <td>4714.000000</td>\n",
              "      <td>5043.000000</td>\n",
              "    </tr>\n",
              "    <tr>\n",
              "      <th>mean</th>\n",
              "      <td>140.194272</td>\n",
              "      <td>107.201074</td>\n",
              "      <td>686.509212</td>\n",
              "      <td>645.009761</td>\n",
              "      <td>6560.047061</td>\n",
              "      <td>4.846841e+07</td>\n",
              "      <td>8.366816e+04</td>\n",
              "      <td>9699.063851</td>\n",
              "      <td>1.371173</td>\n",
              "      <td>272.770808</td>\n",
              "      <td>3.975262e+07</td>\n",
              "      <td>2002.470517</td>\n",
              "      <td>1651.754473</td>\n",
              "      <td>6.442138</td>\n",
              "      <td>2.220403</td>\n",
              "      <td>7525.964505</td>\n",
              "    </tr>\n",
              "    <tr>\n",
              "      <th>std</th>\n",
              "      <td>121.601675</td>\n",
              "      <td>25.197441</td>\n",
              "      <td>2813.328607</td>\n",
              "      <td>1665.041728</td>\n",
              "      <td>15020.759120</td>\n",
              "      <td>6.845299e+07</td>\n",
              "      <td>1.384853e+05</td>\n",
              "      <td>18163.799124</td>\n",
              "      <td>2.013576</td>\n",
              "      <td>377.982886</td>\n",
              "      <td>2.061149e+08</td>\n",
              "      <td>12.474599</td>\n",
              "      <td>4042.438863</td>\n",
              "      <td>1.125116</td>\n",
              "      <td>1.385113</td>\n",
              "      <td>19320.445110</td>\n",
              "    </tr>\n",
              "    <tr>\n",
              "      <th>min</th>\n",
              "      <td>1.000000</td>\n",
              "      <td>7.000000</td>\n",
              "      <td>0.000000</td>\n",
              "      <td>0.000000</td>\n",
              "      <td>0.000000</td>\n",
              "      <td>1.620000e+02</td>\n",
              "      <td>5.000000e+00</td>\n",
              "      <td>0.000000</td>\n",
              "      <td>0.000000</td>\n",
              "      <td>1.000000</td>\n",
              "      <td>2.180000e+02</td>\n",
              "      <td>1916.000000</td>\n",
              "      <td>0.000000</td>\n",
              "      <td>1.600000</td>\n",
              "      <td>1.180000</td>\n",
              "      <td>0.000000</td>\n",
              "    </tr>\n",
              "    <tr>\n",
              "      <th>25%</th>\n",
              "      <td>50.000000</td>\n",
              "      <td>93.000000</td>\n",
              "      <td>7.000000</td>\n",
              "      <td>133.000000</td>\n",
              "      <td>614.000000</td>\n",
              "      <td>5.340988e+06</td>\n",
              "      <td>8.593500e+03</td>\n",
              "      <td>1411.000000</td>\n",
              "      <td>0.000000</td>\n",
              "      <td>65.000000</td>\n",
              "      <td>6.000000e+06</td>\n",
              "      <td>1999.000000</td>\n",
              "      <td>281.000000</td>\n",
              "      <td>5.800000</td>\n",
              "      <td>1.850000</td>\n",
              "      <td>0.000000</td>\n",
              "    </tr>\n",
              "    <tr>\n",
              "      <th>50%</th>\n",
              "      <td>110.000000</td>\n",
              "      <td>103.000000</td>\n",
              "      <td>49.000000</td>\n",
              "      <td>371.500000</td>\n",
              "      <td>988.000000</td>\n",
              "      <td>2.551750e+07</td>\n",
              "      <td>3.435900e+04</td>\n",
              "      <td>3090.000000</td>\n",
              "      <td>1.000000</td>\n",
              "      <td>156.000000</td>\n",
              "      <td>2.000000e+07</td>\n",
              "      <td>2005.000000</td>\n",
              "      <td>595.000000</td>\n",
              "      <td>6.600000</td>\n",
              "      <td>2.350000</td>\n",
              "      <td>166.000000</td>\n",
              "    </tr>\n",
              "    <tr>\n",
              "      <th>75%</th>\n",
              "      <td>195.000000</td>\n",
              "      <td>118.000000</td>\n",
              "      <td>194.500000</td>\n",
              "      <td>636.000000</td>\n",
              "      <td>11000.000000</td>\n",
              "      <td>6.230944e+07</td>\n",
              "      <td>9.630900e+04</td>\n",
              "      <td>13756.500000</td>\n",
              "      <td>2.000000</td>\n",
              "      <td>326.000000</td>\n",
              "      <td>4.500000e+07</td>\n",
              "      <td>2011.000000</td>\n",
              "      <td>918.000000</td>\n",
              "      <td>7.200000</td>\n",
              "      <td>2.350000</td>\n",
              "      <td>3000.000000</td>\n",
              "    </tr>\n",
              "    <tr>\n",
              "      <th>max</th>\n",
              "      <td>813.000000</td>\n",
              "      <td>511.000000</td>\n",
              "      <td>23000.000000</td>\n",
              "      <td>23000.000000</td>\n",
              "      <td>640000.000000</td>\n",
              "      <td>7.605058e+08</td>\n",
              "      <td>1.689764e+06</td>\n",
              "      <td>656730.000000</td>\n",
              "      <td>43.000000</td>\n",
              "      <td>5060.000000</td>\n",
              "      <td>1.221550e+10</td>\n",
              "      <td>2016.000000</td>\n",
              "      <td>137000.000000</td>\n",
              "      <td>9.500000</td>\n",
              "      <td>16.000000</td>\n",
              "      <td>349000.000000</td>\n",
              "    </tr>\n",
              "  </tbody>\n",
              "</table>\n",
              "</div>"
            ],
            "text/plain": [
              "       num_critic_for_reviews     duration  director_facebook_likes  \\\n",
              "count             4993.000000  5028.000000              4939.000000   \n",
              "mean               140.194272   107.201074               686.509212   \n",
              "std                121.601675    25.197441              2813.328607   \n",
              "min                  1.000000     7.000000                 0.000000   \n",
              "25%                 50.000000    93.000000                 7.000000   \n",
              "50%                110.000000   103.000000                49.000000   \n",
              "75%                195.000000   118.000000               194.500000   \n",
              "max                813.000000   511.000000             23000.000000   \n",
              "\n",
              "       actor_3_facebook_likes  actor_1_facebook_likes         gross  \\\n",
              "count             5020.000000             5036.000000  4.159000e+03   \n",
              "mean               645.009761             6560.047061  4.846841e+07   \n",
              "std               1665.041728            15020.759120  6.845299e+07   \n",
              "min                  0.000000                0.000000  1.620000e+02   \n",
              "25%                133.000000              614.000000  5.340988e+06   \n",
              "50%                371.500000              988.000000  2.551750e+07   \n",
              "75%                636.000000            11000.000000  6.230944e+07   \n",
              "max              23000.000000           640000.000000  7.605058e+08   \n",
              "\n",
              "       num_voted_users  cast_total_facebook_likes  facenumber_in_poster  \\\n",
              "count     5.043000e+03                5043.000000           5030.000000   \n",
              "mean      8.366816e+04                9699.063851              1.371173   \n",
              "std       1.384853e+05               18163.799124              2.013576   \n",
              "min       5.000000e+00                   0.000000              0.000000   \n",
              "25%       8.593500e+03                1411.000000              0.000000   \n",
              "50%       3.435900e+04                3090.000000              1.000000   \n",
              "75%       9.630900e+04               13756.500000              2.000000   \n",
              "max       1.689764e+06              656730.000000             43.000000   \n",
              "\n",
              "       num_user_for_reviews        budget   title_year  \\\n",
              "count           5022.000000  4.551000e+03  4935.000000   \n",
              "mean             272.770808  3.975262e+07  2002.470517   \n",
              "std              377.982886  2.061149e+08    12.474599   \n",
              "min                1.000000  2.180000e+02  1916.000000   \n",
              "25%               65.000000  6.000000e+06  1999.000000   \n",
              "50%              156.000000  2.000000e+07  2005.000000   \n",
              "75%              326.000000  4.500000e+07  2011.000000   \n",
              "max             5060.000000  1.221550e+10  2016.000000   \n",
              "\n",
              "       actor_2_facebook_likes   imdb_score  aspect_ratio  movie_facebook_likes  \n",
              "count             5030.000000  5043.000000   4714.000000           5043.000000  \n",
              "mean              1651.754473     6.442138      2.220403           7525.964505  \n",
              "std               4042.438863     1.125116      1.385113          19320.445110  \n",
              "min                  0.000000     1.600000      1.180000              0.000000  \n",
              "25%                281.000000     5.800000      1.850000              0.000000  \n",
              "50%                595.000000     6.600000      2.350000            166.000000  \n",
              "75%                918.000000     7.200000      2.350000           3000.000000  \n",
              "max             137000.000000     9.500000     16.000000         349000.000000  "
            ]
          },
          "execution_count": 118,
          "metadata": {},
          "output_type": "execute_result"
        }
      ],
      "source": [
        "movie.describe()"
      ]
    },
    {
      "cell_type": "code",
      "execution_count": null,
      "id": "gZgrTZdWz7An",
      "metadata": {
        "colab": {
          "base_uri": "https://localhost:8080/",
          "height": 352
        },
        "id": "gZgrTZdWz7An",
        "outputId": "cf73d102-98c0-4b83-bd26-292adc33b2bd"
      },
      "outputs": [
        {
          "data": {
            "text/html": [
              "<div>\n",
              "<style scoped>\n",
              "    .dataframe tbody tr th:only-of-type {\n",
              "        vertical-align: middle;\n",
              "    }\n",
              "\n",
              "    .dataframe tbody tr th {\n",
              "        vertical-align: top;\n",
              "    }\n",
              "\n",
              "    .dataframe thead th {\n",
              "        text-align: right;\n",
              "    }\n",
              "</style>\n",
              "<table border=\"1\" class=\"dataframe\">\n",
              "  <thead>\n",
              "    <tr style=\"text-align: right;\">\n",
              "      <th></th>\n",
              "      <th>color</th>\n",
              "      <th>director_name</th>\n",
              "      <th>num_critic_for_reviews</th>\n",
              "      <th>duration</th>\n",
              "      <th>director_facebook_likes</th>\n",
              "      <th>actor_3_facebook_likes</th>\n",
              "      <th>actor_2_name</th>\n",
              "      <th>actor_1_facebook_likes</th>\n",
              "      <th>gross</th>\n",
              "      <th>genres</th>\n",
              "      <th>...</th>\n",
              "      <th>num_user_for_reviews</th>\n",
              "      <th>language</th>\n",
              "      <th>country</th>\n",
              "      <th>content_rating</th>\n",
              "      <th>budget</th>\n",
              "      <th>title_year</th>\n",
              "      <th>actor_2_facebook_likes</th>\n",
              "      <th>imdb_score</th>\n",
              "      <th>aspect_ratio</th>\n",
              "      <th>movie_facebook_likes</th>\n",
              "    </tr>\n",
              "  </thead>\n",
              "  <tbody>\n",
              "    <tr>\n",
              "      <th>0</th>\n",
              "      <td>Color</td>\n",
              "      <td>James Cameron</td>\n",
              "      <td>723.0</td>\n",
              "      <td>178.0</td>\n",
              "      <td>0.0</td>\n",
              "      <td>855.0</td>\n",
              "      <td>Joel David Moore</td>\n",
              "      <td>1000.0</td>\n",
              "      <td>760505847.0</td>\n",
              "      <td>Action|Adventure|Fantasy|Sci-Fi</td>\n",
              "      <td>...</td>\n",
              "      <td>3054.0</td>\n",
              "      <td>English</td>\n",
              "      <td>USA</td>\n",
              "      <td>PG-13</td>\n",
              "      <td>237000000.0</td>\n",
              "      <td>2009.0</td>\n",
              "      <td>936.0</td>\n",
              "      <td>7.9</td>\n",
              "      <td>1.78</td>\n",
              "      <td>33000</td>\n",
              "    </tr>\n",
              "    <tr>\n",
              "      <th>1</th>\n",
              "      <td>Color</td>\n",
              "      <td>Gore Verbinski</td>\n",
              "      <td>302.0</td>\n",
              "      <td>169.0</td>\n",
              "      <td>563.0</td>\n",
              "      <td>1000.0</td>\n",
              "      <td>Orlando Bloom</td>\n",
              "      <td>40000.0</td>\n",
              "      <td>309404152.0</td>\n",
              "      <td>Action|Adventure|Fantasy</td>\n",
              "      <td>...</td>\n",
              "      <td>1238.0</td>\n",
              "      <td>English</td>\n",
              "      <td>USA</td>\n",
              "      <td>PG-13</td>\n",
              "      <td>300000000.0</td>\n",
              "      <td>2007.0</td>\n",
              "      <td>5000.0</td>\n",
              "      <td>7.1</td>\n",
              "      <td>2.35</td>\n",
              "      <td>0</td>\n",
              "    </tr>\n",
              "    <tr>\n",
              "      <th>2</th>\n",
              "      <td>Color</td>\n",
              "      <td>Sam Mendes</td>\n",
              "      <td>602.0</td>\n",
              "      <td>148.0</td>\n",
              "      <td>0.0</td>\n",
              "      <td>161.0</td>\n",
              "      <td>Rory Kinnear</td>\n",
              "      <td>11000.0</td>\n",
              "      <td>200074175.0</td>\n",
              "      <td>Action|Adventure|Thriller</td>\n",
              "      <td>...</td>\n",
              "      <td>994.0</td>\n",
              "      <td>English</td>\n",
              "      <td>UK</td>\n",
              "      <td>PG-13</td>\n",
              "      <td>245000000.0</td>\n",
              "      <td>2015.0</td>\n",
              "      <td>393.0</td>\n",
              "      <td>6.8</td>\n",
              "      <td>2.35</td>\n",
              "      <td>85000</td>\n",
              "    </tr>\n",
              "    <tr>\n",
              "      <th>3</th>\n",
              "      <td>Color</td>\n",
              "      <td>Christopher Nolan</td>\n",
              "      <td>813.0</td>\n",
              "      <td>164.0</td>\n",
              "      <td>22000.0</td>\n",
              "      <td>23000.0</td>\n",
              "      <td>Christian Bale</td>\n",
              "      <td>27000.0</td>\n",
              "      <td>448130642.0</td>\n",
              "      <td>Action|Thriller</td>\n",
              "      <td>...</td>\n",
              "      <td>2701.0</td>\n",
              "      <td>English</td>\n",
              "      <td>USA</td>\n",
              "      <td>PG-13</td>\n",
              "      <td>250000000.0</td>\n",
              "      <td>2012.0</td>\n",
              "      <td>23000.0</td>\n",
              "      <td>8.5</td>\n",
              "      <td>2.35</td>\n",
              "      <td>164000</td>\n",
              "    </tr>\n",
              "    <tr>\n",
              "      <th>4</th>\n",
              "      <td>NaN</td>\n",
              "      <td>Doug Walker</td>\n",
              "      <td>NaN</td>\n",
              "      <td>NaN</td>\n",
              "      <td>131.0</td>\n",
              "      <td>NaN</td>\n",
              "      <td>Rob Walker</td>\n",
              "      <td>131.0</td>\n",
              "      <td>NaN</td>\n",
              "      <td>Documentary</td>\n",
              "      <td>...</td>\n",
              "      <td>NaN</td>\n",
              "      <td>NaN</td>\n",
              "      <td>NaN</td>\n",
              "      <td>NaN</td>\n",
              "      <td>NaN</td>\n",
              "      <td>NaN</td>\n",
              "      <td>12.0</td>\n",
              "      <td>7.1</td>\n",
              "      <td>NaN</td>\n",
              "      <td>0</td>\n",
              "    </tr>\n",
              "  </tbody>\n",
              "</table>\n",
              "<p>5 rows × 28 columns</p>\n",
              "</div>"
            ],
            "text/plain": [
              "   color      director_name  num_critic_for_reviews  duration  \\\n",
              "0  Color      James Cameron                   723.0     178.0   \n",
              "1  Color     Gore Verbinski                   302.0     169.0   \n",
              "2  Color         Sam Mendes                   602.0     148.0   \n",
              "3  Color  Christopher Nolan                   813.0     164.0   \n",
              "4    NaN        Doug Walker                     NaN       NaN   \n",
              "\n",
              "   director_facebook_likes  actor_3_facebook_likes      actor_2_name  \\\n",
              "0                      0.0                   855.0  Joel David Moore   \n",
              "1                    563.0                  1000.0     Orlando Bloom   \n",
              "2                      0.0                   161.0      Rory Kinnear   \n",
              "3                  22000.0                 23000.0    Christian Bale   \n",
              "4                    131.0                     NaN        Rob Walker   \n",
              "\n",
              "   actor_1_facebook_likes        gross                           genres  ...  \\\n",
              "0                  1000.0  760505847.0  Action|Adventure|Fantasy|Sci-Fi  ...   \n",
              "1                 40000.0  309404152.0         Action|Adventure|Fantasy  ...   \n",
              "2                 11000.0  200074175.0        Action|Adventure|Thriller  ...   \n",
              "3                 27000.0  448130642.0                  Action|Thriller  ...   \n",
              "4                   131.0          NaN                      Documentary  ...   \n",
              "\n",
              "  num_user_for_reviews language  country  content_rating       budget  \\\n",
              "0               3054.0  English      USA           PG-13  237000000.0   \n",
              "1               1238.0  English      USA           PG-13  300000000.0   \n",
              "2                994.0  English       UK           PG-13  245000000.0   \n",
              "3               2701.0  English      USA           PG-13  250000000.0   \n",
              "4                  NaN      NaN      NaN             NaN          NaN   \n",
              "\n",
              "   title_year actor_2_facebook_likes imdb_score  aspect_ratio  \\\n",
              "0      2009.0                  936.0        7.9          1.78   \n",
              "1      2007.0                 5000.0        7.1          2.35   \n",
              "2      2015.0                  393.0        6.8          2.35   \n",
              "3      2012.0                23000.0        8.5          2.35   \n",
              "4         NaN                   12.0        7.1           NaN   \n",
              "\n",
              "  movie_facebook_likes  \n",
              "0                33000  \n",
              "1                    0  \n",
              "2                85000  \n",
              "3               164000  \n",
              "4                    0  \n",
              "\n",
              "[5 rows x 28 columns]"
            ]
          },
          "execution_count": 119,
          "metadata": {},
          "output_type": "execute_result"
        }
      ],
      "source": [
        "movie.head()"
      ]
    },
    {
      "cell_type": "markdown",
      "id": "f03008f9",
      "metadata": {
        "id": "f03008f9"
      },
      "source": [
        "<h1><font color='blue'>Data Cleaning</font></h1>"
      ]
    },
    {
      "cell_type": "markdown",
      "id": "bcd80b22",
      "metadata": {
        "id": "bcd80b22"
      },
      "source": [
        "#### In this we have seen that there are as many NULL values in the dataset but first we have to delete all the features which are of no use."
      ]
    },
    {
      "cell_type": "code",
      "execution_count": null,
      "id": "9ca32f5d",
      "metadata": {
        "id": "9ca32f5d"
      },
      "outputs": [],
      "source": [
        "drop = ['director_name', 'director_facebook_likes', 'language', 'plot_keywords','actor_2_name', 'actor_1_name'\n",
        "      , 'movie_imdb_link', 'num_user_for_reviews', 'content_rating', 'aspect_ratio', 'actor_3_name']\n",
        "movie.drop(drop, axis=1, inplace=True)"
      ]
    },
    {
      "cell_type": "code",
      "execution_count": null,
      "id": "f476950f",
      "metadata": {
        "colab": {
          "base_uri": "https://localhost:8080/",
          "height": 277
        },
        "id": "f476950f",
        "outputId": "343b0e4b-7c24-4d42-adfe-bf7ebdcb1a87"
      },
      "outputs": [
        {
          "data": {
            "text/html": [
              "<div>\n",
              "<style scoped>\n",
              "    .dataframe tbody tr th:only-of-type {\n",
              "        vertical-align: middle;\n",
              "    }\n",
              "\n",
              "    .dataframe tbody tr th {\n",
              "        vertical-align: top;\n",
              "    }\n",
              "\n",
              "    .dataframe thead th {\n",
              "        text-align: right;\n",
              "    }\n",
              "</style>\n",
              "<table border=\"1\" class=\"dataframe\">\n",
              "  <thead>\n",
              "    <tr style=\"text-align: right;\">\n",
              "      <th></th>\n",
              "      <th>color</th>\n",
              "      <th>num_critic_for_reviews</th>\n",
              "      <th>duration</th>\n",
              "      <th>actor_3_facebook_likes</th>\n",
              "      <th>actor_1_facebook_likes</th>\n",
              "      <th>gross</th>\n",
              "      <th>genres</th>\n",
              "      <th>movie_title</th>\n",
              "      <th>num_voted_users</th>\n",
              "      <th>cast_total_facebook_likes</th>\n",
              "      <th>facenumber_in_poster</th>\n",
              "      <th>country</th>\n",
              "      <th>budget</th>\n",
              "      <th>title_year</th>\n",
              "      <th>actor_2_facebook_likes</th>\n",
              "      <th>imdb_score</th>\n",
              "      <th>movie_facebook_likes</th>\n",
              "    </tr>\n",
              "  </thead>\n",
              "  <tbody>\n",
              "    <tr>\n",
              "      <th>0</th>\n",
              "      <td>Color</td>\n",
              "      <td>723.0</td>\n",
              "      <td>178.0</td>\n",
              "      <td>855.0</td>\n",
              "      <td>1000.0</td>\n",
              "      <td>760505847.0</td>\n",
              "      <td>Action|Adventure|Fantasy|Sci-Fi</td>\n",
              "      <td>Avatar</td>\n",
              "      <td>886204</td>\n",
              "      <td>4834</td>\n",
              "      <td>0.0</td>\n",
              "      <td>USA</td>\n",
              "      <td>237000000.0</td>\n",
              "      <td>2009.0</td>\n",
              "      <td>936.0</td>\n",
              "      <td>7.9</td>\n",
              "      <td>33000</td>\n",
              "    </tr>\n",
              "    <tr>\n",
              "      <th>1</th>\n",
              "      <td>Color</td>\n",
              "      <td>302.0</td>\n",
              "      <td>169.0</td>\n",
              "      <td>1000.0</td>\n",
              "      <td>40000.0</td>\n",
              "      <td>309404152.0</td>\n",
              "      <td>Action|Adventure|Fantasy</td>\n",
              "      <td>Pirates of the Caribbean: At World's End</td>\n",
              "      <td>471220</td>\n",
              "      <td>48350</td>\n",
              "      <td>0.0</td>\n",
              "      <td>USA</td>\n",
              "      <td>300000000.0</td>\n",
              "      <td>2007.0</td>\n",
              "      <td>5000.0</td>\n",
              "      <td>7.1</td>\n",
              "      <td>0</td>\n",
              "    </tr>\n",
              "    <tr>\n",
              "      <th>2</th>\n",
              "      <td>Color</td>\n",
              "      <td>602.0</td>\n",
              "      <td>148.0</td>\n",
              "      <td>161.0</td>\n",
              "      <td>11000.0</td>\n",
              "      <td>200074175.0</td>\n",
              "      <td>Action|Adventure|Thriller</td>\n",
              "      <td>Spectre</td>\n",
              "      <td>275868</td>\n",
              "      <td>11700</td>\n",
              "      <td>1.0</td>\n",
              "      <td>UK</td>\n",
              "      <td>245000000.0</td>\n",
              "      <td>2015.0</td>\n",
              "      <td>393.0</td>\n",
              "      <td>6.8</td>\n",
              "      <td>85000</td>\n",
              "    </tr>\n",
              "  </tbody>\n",
              "</table>\n",
              "</div>"
            ],
            "text/plain": [
              "   color  num_critic_for_reviews  duration  actor_3_facebook_likes  \\\n",
              "0  Color                   723.0     178.0                   855.0   \n",
              "1  Color                   302.0     169.0                  1000.0   \n",
              "2  Color                   602.0     148.0                   161.0   \n",
              "\n",
              "   actor_1_facebook_likes        gross                           genres  \\\n",
              "0                  1000.0  760505847.0  Action|Adventure|Fantasy|Sci-Fi   \n",
              "1                 40000.0  309404152.0         Action|Adventure|Fantasy   \n",
              "2                 11000.0  200074175.0        Action|Adventure|Thriller   \n",
              "\n",
              "                                 movie_title  num_voted_users  \\\n",
              "0                                    Avatar            886204   \n",
              "1  Pirates of the Caribbean: At World's End            471220   \n",
              "2                                   Spectre            275868   \n",
              "\n",
              "   cast_total_facebook_likes  facenumber_in_poster country       budget  \\\n",
              "0                       4834                   0.0     USA  237000000.0   \n",
              "1                      48350                   0.0     USA  300000000.0   \n",
              "2                      11700                   1.0      UK  245000000.0   \n",
              "\n",
              "   title_year  actor_2_facebook_likes  imdb_score  movie_facebook_likes  \n",
              "0      2009.0                   936.0         7.9                 33000  \n",
              "1      2007.0                  5000.0         7.1                     0  \n",
              "2      2015.0                   393.0         6.8                 85000  "
            ]
          },
          "execution_count": 121,
          "metadata": {},
          "output_type": "execute_result"
        }
      ],
      "source": [
        "movie.head(3)"
      ]
    },
    {
      "cell_type": "code",
      "execution_count": null,
      "id": "e8fe68f4",
      "metadata": {
        "colab": {
          "base_uri": "https://localhost:8080/"
        },
        "id": "e8fe68f4",
        "outputId": "7bca7c45-65bb-4ea8-b6eb-ee27ed1c3624"
      },
      "outputs": [
        {
          "data": {
            "text/plain": [
              "color                         19\n",
              "num_critic_for_reviews        50\n",
              "duration                      15\n",
              "actor_3_facebook_likes        23\n",
              "actor_1_facebook_likes         7\n",
              "gross                        884\n",
              "genres                         0\n",
              "movie_title                    0\n",
              "num_voted_users                0\n",
              "cast_total_facebook_likes      0\n",
              "facenumber_in_poster          13\n",
              "country                        5\n",
              "budget                       492\n",
              "title_year                   108\n",
              "actor_2_facebook_likes        13\n",
              "imdb_score                     0\n",
              "movie_facebook_likes           0\n",
              "dtype: int64"
            ]
          },
          "execution_count": 122,
          "metadata": {},
          "output_type": "execute_result"
        }
      ],
      "source": [
        "# checking the null values\n",
        "movie.isnull().sum()"
      ]
    },
    {
      "cell_type": "code",
      "execution_count": null,
      "id": "28b793f0",
      "metadata": {
        "colab": {
          "base_uri": "https://localhost:8080/",
          "height": 514
        },
        "id": "28b793f0",
        "outputId": "f582fee8-6911-4d7d-e6e5-84319dc07ba3"
      },
      "outputs": [
        {
          "data": {
            "text/plain": [
              "<AxesSubplot:>"
            ]
          },
          "execution_count": 123,
          "metadata": {},
          "output_type": "execute_result"
        },
        {
          "data": {
            "image/png": "[encoded data removed]",
            "text/plain": [
              "<Figure size 1080x576 with 1 Axes>"
            ]
          },
          "metadata": {},
          "output_type": "display_data"
        }
      ],
      "source": [
        "#Checking outliers for replacing the mean, mode, and meadian\n",
        "sns.set(rc = {'figure.figsize':(15,8)})\n",
        "sns.boxplot(data = movie)"
      ]
    },
    {
      "cell_type": "code",
      "execution_count": null,
      "id": "95b5d652",
      "metadata": {
        "colab": {
          "base_uri": "https://localhost:8080/"
        },
        "id": "95b5d652",
        "outputId": "15f3b906-3673-4fb9-bfc7-fae7da713b66"
      },
      "outputs": [
        {
          "data": {
            "text/plain": [
              "48468407.52680933"
            ]
          },
          "execution_count": 124,
          "metadata": {},
          "output_type": "execute_result"
        }
      ],
      "source": [
        "# we observe that the null values of gross column have rating > 5 so we will \n",
        "# take the average values of gross column which have imdb_score >5\n",
        "gross = movie[(movie['imdb_score'] > 5)]\n",
        "a = movie['gross'].mean()\n",
        "a"
      ]
    },
    {
      "cell_type": "code",
      "execution_count": null,
      "id": "XT-2JOwb7ldn",
      "metadata": {
        "colab": {
          "base_uri": "https://localhost:8080/",
          "height": 521
        },
        "id": "XT-2JOwb7ldn",
        "outputId": "062cba89-9ed9-41b3-cc12-2244a3961f90"
      },
      "outputs": [
        {
          "data": {
            "text/html": [
              "<div>\n",
              "<style scoped>\n",
              "    .dataframe tbody tr th:only-of-type {\n",
              "        vertical-align: middle;\n",
              "    }\n",
              "\n",
              "    .dataframe tbody tr th {\n",
              "        vertical-align: top;\n",
              "    }\n",
              "\n",
              "    .dataframe thead th {\n",
              "        text-align: right;\n",
              "    }\n",
              "</style>\n",
              "<table border=\"1\" class=\"dataframe\">\n",
              "  <thead>\n",
              "    <tr style=\"text-align: right;\">\n",
              "      <th></th>\n",
              "      <th>num_critic_for_reviews</th>\n",
              "      <th>duration</th>\n",
              "      <th>actor_3_facebook_likes</th>\n",
              "      <th>actor_1_facebook_likes</th>\n",
              "      <th>gross</th>\n",
              "      <th>num_voted_users</th>\n",
              "      <th>cast_total_facebook_likes</th>\n",
              "      <th>facenumber_in_poster</th>\n",
              "      <th>budget</th>\n",
              "      <th>title_year</th>\n",
              "      <th>actor_2_facebook_likes</th>\n",
              "      <th>imdb_score</th>\n",
              "      <th>movie_facebook_likes</th>\n",
              "    </tr>\n",
              "  </thead>\n",
              "  <tbody>\n",
              "    <tr>\n",
              "      <th>num_critic_for_reviews</th>\n",
              "      <td>1.000000</td>\n",
              "      <td>0.258486</td>\n",
              "      <td>0.271646</td>\n",
              "      <td>0.190016</td>\n",
              "      <td>0.480601</td>\n",
              "      <td>0.624943</td>\n",
              "      <td>0.263203</td>\n",
              "      <td>-0.033897</td>\n",
              "      <td>0.119994</td>\n",
              "      <td>0.275707</td>\n",
              "      <td>0.282306</td>\n",
              "      <td>0.305303</td>\n",
              "      <td>0.683176</td>\n",
              "    </tr>\n",
              "    <tr>\n",
              "      <th>duration</th>\n",
              "      <td>0.258486</td>\n",
              "      <td>1.000000</td>\n",
              "      <td>0.123558</td>\n",
              "      <td>0.088449</td>\n",
              "      <td>0.250298</td>\n",
              "      <td>0.314765</td>\n",
              "      <td>0.123074</td>\n",
              "      <td>0.013469</td>\n",
              "      <td>0.074276</td>\n",
              "      <td>-0.135038</td>\n",
              "      <td>0.131673</td>\n",
              "      <td>0.261662</td>\n",
              "      <td>0.196605</td>\n",
              "    </tr>\n",
              "    <tr>\n",
              "      <th>actor_3_facebook_likes</th>\n",
              "      <td>0.271646</td>\n",
              "      <td>0.123558</td>\n",
              "      <td>1.000000</td>\n",
              "      <td>0.249927</td>\n",
              "      <td>0.308026</td>\n",
              "      <td>0.287239</td>\n",
              "      <td>0.473920</td>\n",
              "      <td>0.099368</td>\n",
              "      <td>0.047451</td>\n",
              "      <td>0.096137</td>\n",
              "      <td>0.559662</td>\n",
              "      <td>0.052633</td>\n",
              "      <td>0.278844</td>\n",
              "    </tr>\n",
              "    <tr>\n",
              "      <th>actor_1_facebook_likes</th>\n",
              "      <td>0.190016</td>\n",
              "      <td>0.088449</td>\n",
              "      <td>0.249927</td>\n",
              "      <td>1.000000</td>\n",
              "      <td>0.154468</td>\n",
              "      <td>0.192804</td>\n",
              "      <td>0.951661</td>\n",
              "      <td>0.072257</td>\n",
              "      <td>0.022639</td>\n",
              "      <td>0.086873</td>\n",
              "      <td>0.390487</td>\n",
              "      <td>0.076099</td>\n",
              "      <td>0.135348</td>\n",
              "    </tr>\n",
              "    <tr>\n",
              "      <th>gross</th>\n",
              "      <td>0.480601</td>\n",
              "      <td>0.250298</td>\n",
              "      <td>0.308026</td>\n",
              "      <td>0.154468</td>\n",
              "      <td>1.000000</td>\n",
              "      <td>0.637271</td>\n",
              "      <td>0.247400</td>\n",
              "      <td>-0.027755</td>\n",
              "      <td>0.102179</td>\n",
              "      <td>0.030886</td>\n",
              "      <td>0.262768</td>\n",
              "      <td>0.198021</td>\n",
              "      <td>0.378082</td>\n",
              "    </tr>\n",
              "    <tr>\n",
              "      <th>num_voted_users</th>\n",
              "      <td>0.624943</td>\n",
              "      <td>0.314765</td>\n",
              "      <td>0.287239</td>\n",
              "      <td>0.192804</td>\n",
              "      <td>0.637271</td>\n",
              "      <td>1.000000</td>\n",
              "      <td>0.265911</td>\n",
              "      <td>-0.026998</td>\n",
              "      <td>0.079621</td>\n",
              "      <td>0.007397</td>\n",
              "      <td>0.270790</td>\n",
              "      <td>0.410965</td>\n",
              "      <td>0.537924</td>\n",
              "    </tr>\n",
              "    <tr>\n",
              "      <th>cast_total_facebook_likes</th>\n",
              "      <td>0.263203</td>\n",
              "      <td>0.123074</td>\n",
              "      <td>0.473920</td>\n",
              "      <td>0.951661</td>\n",
              "      <td>0.247400</td>\n",
              "      <td>0.265911</td>\n",
              "      <td>1.000000</td>\n",
              "      <td>0.091475</td>\n",
              "      <td>0.036557</td>\n",
              "      <td>0.109971</td>\n",
              "      <td>0.628404</td>\n",
              "      <td>0.085787</td>\n",
              "      <td>0.209786</td>\n",
              "    </tr>\n",
              "    <tr>\n",
              "      <th>facenumber_in_poster</th>\n",
              "      <td>-0.033897</td>\n",
              "      <td>0.013469</td>\n",
              "      <td>0.099368</td>\n",
              "      <td>0.072257</td>\n",
              "      <td>-0.027755</td>\n",
              "      <td>-0.026998</td>\n",
              "      <td>0.091475</td>\n",
              "      <td>1.000000</td>\n",
              "      <td>-0.019559</td>\n",
              "      <td>0.061504</td>\n",
              "      <td>0.071228</td>\n",
              "      <td>-0.062958</td>\n",
              "      <td>0.008918</td>\n",
              "    </tr>\n",
              "    <tr>\n",
              "      <th>budget</th>\n",
              "      <td>0.119994</td>\n",
              "      <td>0.074276</td>\n",
              "      <td>0.047451</td>\n",
              "      <td>0.022639</td>\n",
              "      <td>0.102179</td>\n",
              "      <td>0.079621</td>\n",
              "      <td>0.036557</td>\n",
              "      <td>-0.019559</td>\n",
              "      <td>1.000000</td>\n",
              "      <td>0.045726</td>\n",
              "      <td>0.044236</td>\n",
              "      <td>0.030688</td>\n",
              "      <td>0.062039</td>\n",
              "    </tr>\n",
              "    <tr>\n",
              "      <th>title_year</th>\n",
              "      <td>0.275707</td>\n",
              "      <td>-0.135038</td>\n",
              "      <td>0.096137</td>\n",
              "      <td>0.086873</td>\n",
              "      <td>0.030886</td>\n",
              "      <td>0.007397</td>\n",
              "      <td>0.109971</td>\n",
              "      <td>0.061504</td>\n",
              "      <td>0.045726</td>\n",
              "      <td>1.000000</td>\n",
              "      <td>0.101890</td>\n",
              "      <td>-0.209167</td>\n",
              "      <td>0.218678</td>\n",
              "    </tr>\n",
              "    <tr>\n",
              "      <th>actor_2_facebook_likes</th>\n",
              "      <td>0.282306</td>\n",
              "      <td>0.131673</td>\n",
              "      <td>0.559662</td>\n",
              "      <td>0.390487</td>\n",
              "      <td>0.262768</td>\n",
              "      <td>0.270790</td>\n",
              "      <td>0.628404</td>\n",
              "      <td>0.071228</td>\n",
              "      <td>0.044236</td>\n",
              "      <td>0.101890</td>\n",
              "      <td>1.000000</td>\n",
              "      <td>0.083808</td>\n",
              "      <td>0.243487</td>\n",
              "    </tr>\n",
              "    <tr>\n",
              "      <th>imdb_score</th>\n",
              "      <td>0.305303</td>\n",
              "      <td>0.261662</td>\n",
              "      <td>0.052633</td>\n",
              "      <td>0.076099</td>\n",
              "      <td>0.198021</td>\n",
              "      <td>0.410965</td>\n",
              "      <td>0.085787</td>\n",
              "      <td>-0.062958</td>\n",
              "      <td>0.030688</td>\n",
              "      <td>-0.209167</td>\n",
              "      <td>0.083808</td>\n",
              "      <td>1.000000</td>\n",
              "      <td>0.247049</td>\n",
              "    </tr>\n",
              "    <tr>\n",
              "      <th>movie_facebook_likes</th>\n",
              "      <td>0.683176</td>\n",
              "      <td>0.196605</td>\n",
              "      <td>0.278844</td>\n",
              "      <td>0.135348</td>\n",
              "      <td>0.378082</td>\n",
              "      <td>0.537924</td>\n",
              "      <td>0.209786</td>\n",
              "      <td>0.008918</td>\n",
              "      <td>0.062039</td>\n",
              "      <td>0.218678</td>\n",
              "      <td>0.243487</td>\n",
              "      <td>0.247049</td>\n",
              "      <td>1.000000</td>\n",
              "    </tr>\n",
              "  </tbody>\n",
              "</table>\n",
              "</div>"
            ],
            "text/plain": [
              "                           num_critic_for_reviews  duration  \\\n",
              "num_critic_for_reviews                   1.000000  0.258486   \n",
              "duration                                 0.258486  1.000000   \n",
              "actor_3_facebook_likes                   0.271646  0.123558   \n",
              "actor_1_facebook_likes                   0.190016  0.088449   \n",
              "gross                                    0.480601  0.250298   \n",
              "num_voted_users                          0.624943  0.314765   \n",
              "cast_total_facebook_likes                0.263203  0.123074   \n",
              "facenumber_in_poster                    -0.033897  0.013469   \n",
              "budget                                   0.119994  0.074276   \n",
              "title_year                               0.275707 -0.135038   \n",
              "actor_2_facebook_likes                   0.282306  0.131673   \n",
              "imdb_score                               0.305303  0.261662   \n",
              "movie_facebook_likes                     0.683176  0.196605   \n",
              "\n",
              "                           actor_3_facebook_likes  actor_1_facebook_likes  \\\n",
              "num_critic_for_reviews                   0.271646                0.190016   \n",
              "duration                                 0.123558                0.088449   \n",
              "actor_3_facebook_likes                   1.000000                0.249927   \n",
              "actor_1_facebook_likes                   0.249927                1.000000   \n",
              "gross                                    0.308026                0.154468   \n",
              "num_voted_users                          0.287239                0.192804   \n",
              "cast_total_facebook_likes                0.473920                0.951661   \n",
              "facenumber_in_poster                     0.099368                0.072257   \n",
              "budget                                   0.047451                0.022639   \n",
              "title_year                               0.096137                0.086873   \n",
              "actor_2_facebook_likes                   0.559662                0.390487   \n",
              "imdb_score                               0.052633                0.076099   \n",
              "movie_facebook_likes                     0.278844                0.135348   \n",
              "\n",
              "                              gross  num_voted_users  \\\n",
              "num_critic_for_reviews     0.480601         0.624943   \n",
              "duration                   0.250298         0.314765   \n",
              "actor_3_facebook_likes     0.308026         0.287239   \n",
              "actor_1_facebook_likes     0.154468         0.192804   \n",
              "gross                      1.000000         0.637271   \n",
              "num_voted_users            0.637271         1.000000   \n",
              "cast_total_facebook_likes  0.247400         0.265911   \n",
              "facenumber_in_poster      -0.027755        -0.026998   \n",
              "budget                     0.102179         0.079621   \n",
              "title_year                 0.030886         0.007397   \n",
              "actor_2_facebook_likes     0.262768         0.270790   \n",
              "imdb_score                 0.198021         0.410965   \n",
              "movie_facebook_likes       0.378082         0.537924   \n",
              "\n",
              "                           cast_total_facebook_likes  facenumber_in_poster  \\\n",
              "num_critic_for_reviews                      0.263203             -0.033897   \n",
              "duration                                    0.123074              0.013469   \n",
              "actor_3_facebook_likes                      0.473920              0.099368   \n",
              "actor_1_facebook_likes                      0.951661              0.072257   \n",
              "gross                                       0.247400             -0.027755   \n",
              "num_voted_users                             0.265911             -0.026998   \n",
              "cast_total_facebook_likes                   1.000000              0.091475   \n",
              "facenumber_in_poster                        0.091475              1.000000   \n",
              "budget                                      0.036557             -0.019559   \n",
              "title_year                                  0.109971              0.061504   \n",
              "actor_2_facebook_likes                      0.628404              0.071228   \n",
              "imdb_score                                  0.085787             -0.062958   \n",
              "movie_facebook_likes                        0.209786              0.008918   \n",
              "\n",
              "                             budget  title_year  actor_2_facebook_likes  \\\n",
              "num_critic_for_reviews     0.119994    0.275707                0.282306   \n",
              "duration                   0.074276   -0.135038                0.131673   \n",
              "actor_3_facebook_likes     0.047451    0.096137                0.559662   \n",
              "actor_1_facebook_likes     0.022639    0.086873                0.390487   \n",
              "gross                      0.102179    0.030886                0.262768   \n",
              "num_voted_users            0.079621    0.007397                0.270790   \n",
              "cast_total_facebook_likes  0.036557    0.109971                0.628404   \n",
              "facenumber_in_poster      -0.019559    0.061504                0.071228   \n",
              "budget                     1.000000    0.045726                0.044236   \n",
              "title_year                 0.045726    1.000000                0.101890   \n",
              "actor_2_facebook_likes     0.044236    0.101890                1.000000   \n",
              "imdb_score                 0.030688   -0.209167                0.083808   \n",
              "movie_facebook_likes       0.062039    0.218678                0.243487   \n",
              "\n",
              "                           imdb_score  movie_facebook_likes  \n",
              "num_critic_for_reviews       0.305303              0.683176  \n",
              "duration                     0.261662              0.196605  \n",
              "actor_3_facebook_likes       0.052633              0.278844  \n",
              "actor_1_facebook_likes       0.076099              0.135348  \n",
              "gross                        0.198021              0.378082  \n",
              "num_voted_users              0.410965              0.537924  \n",
              "cast_total_facebook_likes    0.085787              0.209786  \n",
              "facenumber_in_poster        -0.062958              0.008918  \n",
              "budget                       0.030688              0.062039  \n",
              "title_year                  -0.209167              0.218678  \n",
              "actor_2_facebook_likes       0.083808              0.243487  \n",
              "imdb_score                   1.000000              0.247049  \n",
              "movie_facebook_likes         0.247049              1.000000  "
            ]
          },
          "execution_count": 125,
          "metadata": {},
          "output_type": "execute_result"
        }
      ],
      "source": [
        "movie.corr()"
      ]
    },
    {
      "cell_type": "code",
      "execution_count": null,
      "id": "BXWkw2zR7rln",
      "metadata": {
        "colab": {
          "base_uri": "https://localhost:8080/",
          "height": 728
        },
        "id": "BXWkw2zR7rln",
        "outputId": "20a57abd-c840-408b-fd0b-026a0415bade"
      },
      "outputs": [
        {
          "data": {
            "image/png": "[encoded data removed]",
            "text/plain": [
              "<Figure size 1440x720 with 2 Axes>"
            ]
          },
          "metadata": {},
          "output_type": "display_data"
        }
      ],
      "source": [
        "plt.figure(figsize=(20, 10))\n",
        "sns.heatmap(movie.corr(), annot=True, cmap='PiYG')\n",
        "plt.show()\n",
        "plt.close()"
      ]
    },
    {
      "cell_type": "code",
      "execution_count": null,
      "id": "6763be54",
      "metadata": {
        "id": "6763be54"
      },
      "outputs": [],
      "source": [
        "movie['gross'] = movie['gross'].replace(np.nan, 48468407)"
      ]
    },
    {
      "cell_type": "code",
      "execution_count": null,
      "id": "5bfb7a9c",
      "metadata": {
        "colab": {
          "base_uri": "https://localhost:8080/"
        },
        "id": "5bfb7a9c",
        "outputId": "93699d88-d7bf-4851-b105-c0ceb8037d14"
      },
      "outputs": [
        {
          "data": {
            "text/plain": [
              "39752620"
            ]
          },
          "execution_count": 128,
          "metadata": {},
          "output_type": "execute_result"
        }
      ],
      "source": [
        "a = movie['budget'].mean()\n",
        "a = int(a)\n",
        "a"
      ]
    },
    {
      "cell_type": "code",
      "execution_count": null,
      "id": "7485b487",
      "metadata": {
        "id": "7485b487"
      },
      "outputs": [],
      "source": [
        "movie['budget'] = movie['budget'].replace(np.nan, 39752620)"
      ]
    },
    {
      "cell_type": "code",
      "execution_count": null,
      "id": "86add032",
      "metadata": {
        "colab": {
          "base_uri": "https://localhost:8080/"
        },
        "id": "86add032",
        "outputId": "a20bb44d-3e39-4dd1-a518-e5d67c738674"
      },
      "outputs": [
        {
          "data": {
            "text/plain": [
              "0       237000000.0\n",
              "1       300000000.0\n",
              "2       245000000.0\n",
              "3       250000000.0\n",
              "4        39752620.0\n",
              "           ...     \n",
              "5038     39752620.0\n",
              "5039     39752620.0\n",
              "5040         1400.0\n",
              "5041     39752620.0\n",
              "5042         1100.0\n",
              "Name: budget, Length: 5043, dtype: float64"
            ]
          },
          "execution_count": 130,
          "metadata": {},
          "output_type": "execute_result"
        }
      ],
      "source": [
        "movie['budget']"
      ]
    },
    {
      "cell_type": "code",
      "execution_count": null,
      "id": "3e91d5e4",
      "metadata": {
        "colab": {
          "base_uri": "https://localhost:8080/"
        },
        "id": "3e91d5e4",
        "outputId": "49d583d0-f3b7-4aca-c896-b95ce21da843",
        "scrolled": true
      },
      "outputs": [
        {
          "data": {
            "text/plain": [
              "color                         19\n",
              "num_critic_for_reviews        50\n",
              "duration                      15\n",
              "actor_3_facebook_likes        23\n",
              "actor_1_facebook_likes         7\n",
              "gross                          0\n",
              "genres                         0\n",
              "movie_title                    0\n",
              "num_voted_users                0\n",
              "cast_total_facebook_likes      0\n",
              "facenumber_in_poster          13\n",
              "country                        5\n",
              "budget                         0\n",
              "title_year                   108\n",
              "actor_2_facebook_likes        13\n",
              "imdb_score                     0\n",
              "movie_facebook_likes           0\n",
              "dtype: int64"
            ]
          },
          "execution_count": 131,
          "metadata": {},
          "output_type": "execute_result"
        }
      ],
      "source": [
        "movie.isnull().sum()"
      ]
    },
    {
      "cell_type": "code",
      "execution_count": null,
      "id": "cbb577c8",
      "metadata": {
        "id": "cbb577c8"
      },
      "outputs": [],
      "source": [
        "movie['color'].mode()\n",
        "movie['color'] = movie['color'].replace(np.nan, 'Color')"
      ]
    },
    {
      "cell_type": "code",
      "execution_count": null,
      "id": "93d0fa66",
      "metadata": {
        "id": "93d0fa66"
      },
      "outputs": [],
      "source": [
        "movie['duration']=movie['duration'].fillna(movie['duration'].mean())"
      ]
    },
    {
      "cell_type": "code",
      "execution_count": null,
      "id": "422d7acd",
      "metadata": {
        "id": "422d7acd"
      },
      "outputs": [],
      "source": [
        "movie.dropna(axis=0,inplace=True)"
      ]
    },
    {
      "cell_type": "code",
      "execution_count": null,
      "id": "d02afcc6",
      "metadata": {
        "colab": {
          "base_uri": "https://localhost:8080/"
        },
        "id": "d02afcc6",
        "outputId": "d2f838f8-8844-4f15-d2df-8f96b9ce72de"
      },
      "outputs": [
        {
          "data": {
            "text/plain": [
              "color                        0\n",
              "num_critic_for_reviews       0\n",
              "duration                     0\n",
              "actor_3_facebook_likes       0\n",
              "actor_1_facebook_likes       0\n",
              "gross                        0\n",
              "genres                       0\n",
              "movie_title                  0\n",
              "num_voted_users              0\n",
              "cast_total_facebook_likes    0\n",
              "facenumber_in_poster         0\n",
              "country                      0\n",
              "budget                       0\n",
              "title_year                   0\n",
              "actor_2_facebook_likes       0\n",
              "imdb_score                   0\n",
              "movie_facebook_likes         0\n",
              "dtype: int64"
            ]
          },
          "execution_count": 135,
          "metadata": {},
          "output_type": "execute_result"
        }
      ],
      "source": [
        "movie.isnull().sum()"
      ]
    },
    {
      "cell_type": "code",
      "execution_count": null,
      "id": "2249cf7f",
      "metadata": {
        "colab": {
          "base_uri": "https://localhost:8080/"
        },
        "id": "2249cf7f",
        "outputId": "d6ed4539-a747-415e-fcb0-beb782b875a9"
      },
      "outputs": [
        {
          "data": {
            "text/plain": [
              "(4865, 17)"
            ]
          },
          "execution_count": 136,
          "metadata": {},
          "output_type": "execute_result"
        }
      ],
      "source": [
        "movie.shape"
      ]
    },
    {
      "cell_type": "markdown",
      "id": "6944d383",
      "metadata": {
        "id": "6944d383"
      },
      "source": [
        "<h1><font color='blue'>Exploratory Data Analysis</font></h1>"
      ]
    },
    {
      "cell_type": "markdown",
      "id": "90723dd0",
      "metadata": {
        "id": "90723dd0"
      },
      "source": [
        "### 1. Which movie made the highest revenue"
      ]
    },
    {
      "cell_type": "code",
      "execution_count": null,
      "id": "0876eb41",
      "metadata": {
        "colab": {
          "base_uri": "https://localhost:8080/",
          "height": 162
        },
        "id": "0876eb41",
        "outputId": "9e046dcc-b079-4bc9-ade1-6d3808efc45c"
      },
      "outputs": [
        {
          "data": {
            "text/html": [
              "<div>\n",
              "<style scoped>\n",
              "    .dataframe tbody tr th:only-of-type {\n",
              "        vertical-align: middle;\n",
              "    }\n",
              "\n",
              "    .dataframe tbody tr th {\n",
              "        vertical-align: top;\n",
              "    }\n",
              "\n",
              "    .dataframe thead th {\n",
              "        text-align: right;\n",
              "    }\n",
              "</style>\n",
              "<table border=\"1\" class=\"dataframe\">\n",
              "  <thead>\n",
              "    <tr style=\"text-align: right;\">\n",
              "      <th></th>\n",
              "      <th>color</th>\n",
              "      <th>num_critic_for_reviews</th>\n",
              "      <th>duration</th>\n",
              "      <th>actor_3_facebook_likes</th>\n",
              "      <th>actor_1_facebook_likes</th>\n",
              "      <th>gross</th>\n",
              "      <th>genres</th>\n",
              "      <th>movie_title</th>\n",
              "      <th>num_voted_users</th>\n",
              "      <th>cast_total_facebook_likes</th>\n",
              "      <th>facenumber_in_poster</th>\n",
              "      <th>country</th>\n",
              "      <th>budget</th>\n",
              "      <th>title_year</th>\n",
              "      <th>actor_2_facebook_likes</th>\n",
              "      <th>imdb_score</th>\n",
              "      <th>movie_facebook_likes</th>\n",
              "    </tr>\n",
              "  </thead>\n",
              "  <tbody>\n",
              "    <tr>\n",
              "      <th>0</th>\n",
              "      <td>Color</td>\n",
              "      <td>723.0</td>\n",
              "      <td>178.0</td>\n",
              "      <td>855.0</td>\n",
              "      <td>1000.0</td>\n",
              "      <td>760505847.0</td>\n",
              "      <td>Action|Adventure|Fantasy|Sci-Fi</td>\n",
              "      <td>Avatar</td>\n",
              "      <td>886204</td>\n",
              "      <td>4834</td>\n",
              "      <td>0.0</td>\n",
              "      <td>USA</td>\n",
              "      <td>237000000.0</td>\n",
              "      <td>2009.0</td>\n",
              "      <td>936.0</td>\n",
              "      <td>7.9</td>\n",
              "      <td>33000</td>\n",
              "    </tr>\n",
              "  </tbody>\n",
              "</table>\n",
              "</div>"
            ],
            "text/plain": [
              "   color  num_critic_for_reviews  duration  actor_3_facebook_likes  \\\n",
              "0  Color                   723.0     178.0                   855.0   \n",
              "\n",
              "   actor_1_facebook_likes        gross                           genres  \\\n",
              "0                  1000.0  760505847.0  Action|Adventure|Fantasy|Sci-Fi   \n",
              "\n",
              "  movie_title  num_voted_users  cast_total_facebook_likes  \\\n",
              "0     Avatar            886204                       4834   \n",
              "\n",
              "   facenumber_in_poster country       budget  title_year  \\\n",
              "0                   0.0     USA  237000000.0      2009.0   \n",
              "\n",
              "   actor_2_facebook_likes  imdb_score  movie_facebook_likes  \n",
              "0                   936.0         7.9                 33000  "
            ]
          },
          "execution_count": 137,
          "metadata": {},
          "output_type": "execute_result"
        }
      ],
      "source": [
        "movie[movie['gross'] == movie['gross'].max()]"
      ]
    },
    {
      "cell_type": "code",
      "execution_count": null,
      "id": "50c2b242",
      "metadata": {
        "colab": {
          "base_uri": "https://localhost:8080/",
          "height": 340
        },
        "id": "50c2b242",
        "outputId": "3a9b4ae3-06b0-4ea0-f08a-c75d4bbadaaf"
      },
      "outputs": [
        {
          "data": {
            "text/html": [
              "<div>\n",
              "<style scoped>\n",
              "    .dataframe tbody tr th:only-of-type {\n",
              "        vertical-align: middle;\n",
              "    }\n",
              "\n",
              "    .dataframe tbody tr th {\n",
              "        vertical-align: top;\n",
              "    }\n",
              "\n",
              "    .dataframe thead th {\n",
              "        text-align: right;\n",
              "    }\n",
              "</style>\n",
              "<table border=\"1\" class=\"dataframe\">\n",
              "  <thead>\n",
              "    <tr style=\"text-align: right;\">\n",
              "      <th></th>\n",
              "      <th>color</th>\n",
              "      <th>num_critic_for_reviews</th>\n",
              "      <th>duration</th>\n",
              "      <th>actor_3_facebook_likes</th>\n",
              "      <th>actor_1_facebook_likes</th>\n",
              "      <th>gross</th>\n",
              "      <th>genres</th>\n",
              "      <th>movie_title</th>\n",
              "      <th>num_voted_users</th>\n",
              "      <th>cast_total_facebook_likes</th>\n",
              "      <th>facenumber_in_poster</th>\n",
              "      <th>country</th>\n",
              "      <th>budget</th>\n",
              "      <th>title_year</th>\n",
              "      <th>actor_2_facebook_likes</th>\n",
              "      <th>imdb_score</th>\n",
              "      <th>movie_facebook_likes</th>\n",
              "    </tr>\n",
              "  </thead>\n",
              "  <tbody>\n",
              "    <tr>\n",
              "      <th>0</th>\n",
              "      <td>Color</td>\n",
              "      <td>723.0</td>\n",
              "      <td>178.0</td>\n",
              "      <td>855.0</td>\n",
              "      <td>1000.0</td>\n",
              "      <td>760505847.0</td>\n",
              "      <td>Action|Adventure|Fantasy|Sci-Fi</td>\n",
              "      <td>Avatar</td>\n",
              "      <td>886204</td>\n",
              "      <td>4834</td>\n",
              "      <td>0.0</td>\n",
              "      <td>USA</td>\n",
              "      <td>237000000.0</td>\n",
              "      <td>2009.0</td>\n",
              "      <td>936.0</td>\n",
              "      <td>7.9</td>\n",
              "      <td>33000</td>\n",
              "    </tr>\n",
              "    <tr>\n",
              "      <th>26</th>\n",
              "      <td>Color</td>\n",
              "      <td>315.0</td>\n",
              "      <td>194.0</td>\n",
              "      <td>794.0</td>\n",
              "      <td>29000.0</td>\n",
              "      <td>658672302.0</td>\n",
              "      <td>Drama|Romance</td>\n",
              "      <td>Titanic</td>\n",
              "      <td>793059</td>\n",
              "      <td>45223</td>\n",
              "      <td>0.0</td>\n",
              "      <td>USA</td>\n",
              "      <td>200000000.0</td>\n",
              "      <td>1997.0</td>\n",
              "      <td>14000.0</td>\n",
              "      <td>7.7</td>\n",
              "      <td>26000</td>\n",
              "    </tr>\n",
              "    <tr>\n",
              "      <th>29</th>\n",
              "      <td>Color</td>\n",
              "      <td>644.0</td>\n",
              "      <td>124.0</td>\n",
              "      <td>1000.0</td>\n",
              "      <td>3000.0</td>\n",
              "      <td>652177271.0</td>\n",
              "      <td>Action|Adventure|Sci-Fi|Thriller</td>\n",
              "      <td>Jurassic World</td>\n",
              "      <td>418214</td>\n",
              "      <td>8458</td>\n",
              "      <td>0.0</td>\n",
              "      <td>USA</td>\n",
              "      <td>150000000.0</td>\n",
              "      <td>2015.0</td>\n",
              "      <td>2000.0</td>\n",
              "      <td>7.0</td>\n",
              "      <td>150000</td>\n",
              "    </tr>\n",
              "    <tr>\n",
              "      <th>17</th>\n",
              "      <td>Color</td>\n",
              "      <td>703.0</td>\n",
              "      <td>173.0</td>\n",
              "      <td>19000.0</td>\n",
              "      <td>26000.0</td>\n",
              "      <td>623279547.0</td>\n",
              "      <td>Action|Adventure|Sci-Fi</td>\n",
              "      <td>The Avengers</td>\n",
              "      <td>995415</td>\n",
              "      <td>87697</td>\n",
              "      <td>3.0</td>\n",
              "      <td>USA</td>\n",
              "      <td>220000000.0</td>\n",
              "      <td>2012.0</td>\n",
              "      <td>21000.0</td>\n",
              "      <td>8.1</td>\n",
              "      <td>123000</td>\n",
              "    </tr>\n",
              "    <tr>\n",
              "      <th>794</th>\n",
              "      <td>Color</td>\n",
              "      <td>703.0</td>\n",
              "      <td>173.0</td>\n",
              "      <td>19000.0</td>\n",
              "      <td>26000.0</td>\n",
              "      <td>623279547.0</td>\n",
              "      <td>Action|Adventure|Sci-Fi</td>\n",
              "      <td>The Avengers</td>\n",
              "      <td>995415</td>\n",
              "      <td>87697</td>\n",
              "      <td>3.0</td>\n",
              "      <td>USA</td>\n",
              "      <td>220000000.0</td>\n",
              "      <td>2012.0</td>\n",
              "      <td>21000.0</td>\n",
              "      <td>8.1</td>\n",
              "      <td>123000</td>\n",
              "    </tr>\n",
              "  </tbody>\n",
              "</table>\n",
              "</div>"
            ],
            "text/plain": [
              "     color  num_critic_for_reviews  duration  actor_3_facebook_likes  \\\n",
              "0    Color                   723.0     178.0                   855.0   \n",
              "26   Color                   315.0     194.0                   794.0   \n",
              "29   Color                   644.0     124.0                  1000.0   \n",
              "17   Color                   703.0     173.0                 19000.0   \n",
              "794  Color                   703.0     173.0                 19000.0   \n",
              "\n",
              "     actor_1_facebook_likes        gross                            genres  \\\n",
              "0                    1000.0  760505847.0   Action|Adventure|Fantasy|Sci-Fi   \n",
              "26                  29000.0  658672302.0                     Drama|Romance   \n",
              "29                   3000.0  652177271.0  Action|Adventure|Sci-Fi|Thriller   \n",
              "17                  26000.0  623279547.0           Action|Adventure|Sci-Fi   \n",
              "794                 26000.0  623279547.0           Action|Adventure|Sci-Fi   \n",
              "\n",
              "         movie_title  num_voted_users  cast_total_facebook_likes  \\\n",
              "0            Avatar            886204                       4834   \n",
              "26          Titanic            793059                      45223   \n",
              "29   Jurassic World            418214                       8458   \n",
              "17     The Avengers            995415                      87697   \n",
              "794    The Avengers            995415                      87697   \n",
              "\n",
              "     facenumber_in_poster country       budget  title_year  \\\n",
              "0                     0.0     USA  237000000.0      2009.0   \n",
              "26                    0.0     USA  200000000.0      1997.0   \n",
              "29                    0.0     USA  150000000.0      2015.0   \n",
              "17                    3.0     USA  220000000.0      2012.0   \n",
              "794                   3.0     USA  220000000.0      2012.0   \n",
              "\n",
              "     actor_2_facebook_likes  imdb_score  movie_facebook_likes  \n",
              "0                     936.0         7.9                 33000  \n",
              "26                  14000.0         7.7                 26000  \n",
              "29                   2000.0         7.0                150000  \n",
              "17                  21000.0         8.1                123000  \n",
              "794                 21000.0         8.1                123000  "
            ]
          },
          "execution_count": 138,
          "metadata": {},
          "output_type": "execute_result"
        }
      ],
      "source": [
        "movie.sort_values(by=\"gross\",ascending=False).head(5)"
      ]
    },
    {
      "cell_type": "markdown",
      "id": "1d2b18fb",
      "metadata": {
        "id": "1d2b18fb"
      },
      "source": [
        "<h3><font color='red'>Avatar made the highest revenue</font></h3>"
      ]
    },
    {
      "cell_type": "markdown",
      "id": "e4532551",
      "metadata": {
        "id": "e4532551"
      },
      "source": [
        "### 2. Which movie is the most expensive?"
      ]
    },
    {
      "cell_type": "code",
      "execution_count": null,
      "id": "1b4a8a92",
      "metadata": {
        "colab": {
          "base_uri": "https://localhost:8080/",
          "height": 162
        },
        "id": "1b4a8a92",
        "outputId": "56cdde6f-c21f-44b3-8205-761e2d6d2293"
      },
      "outputs": [
        {
          "data": {
            "text/html": [
              "<div>\n",
              "<style scoped>\n",
              "    .dataframe tbody tr th:only-of-type {\n",
              "        vertical-align: middle;\n",
              "    }\n",
              "\n",
              "    .dataframe tbody tr th {\n",
              "        vertical-align: top;\n",
              "    }\n",
              "\n",
              "    .dataframe thead th {\n",
              "        text-align: right;\n",
              "    }\n",
              "</style>\n",
              "<table border=\"1\" class=\"dataframe\">\n",
              "  <thead>\n",
              "    <tr style=\"text-align: right;\">\n",
              "      <th></th>\n",
              "      <th>color</th>\n",
              "      <th>num_critic_for_reviews</th>\n",
              "      <th>duration</th>\n",
              "      <th>actor_3_facebook_likes</th>\n",
              "      <th>actor_1_facebook_likes</th>\n",
              "      <th>gross</th>\n",
              "      <th>genres</th>\n",
              "      <th>movie_title</th>\n",
              "      <th>num_voted_users</th>\n",
              "      <th>cast_total_facebook_likes</th>\n",
              "      <th>facenumber_in_poster</th>\n",
              "      <th>country</th>\n",
              "      <th>budget</th>\n",
              "      <th>title_year</th>\n",
              "      <th>actor_2_facebook_likes</th>\n",
              "      <th>imdb_score</th>\n",
              "      <th>movie_facebook_likes</th>\n",
              "    </tr>\n",
              "  </thead>\n",
              "  <tbody>\n",
              "    <tr>\n",
              "      <th>2988</th>\n",
              "      <td>Color</td>\n",
              "      <td>363.0</td>\n",
              "      <td>110.0</td>\n",
              "      <td>74.0</td>\n",
              "      <td>629.0</td>\n",
              "      <td>2201412.0</td>\n",
              "      <td>Comedy|Drama|Horror|Sci-Fi</td>\n",
              "      <td>The Host</td>\n",
              "      <td>68883</td>\n",
              "      <td>1173</td>\n",
              "      <td>0.0</td>\n",
              "      <td>South Korea</td>\n",
              "      <td>1.221550e+10</td>\n",
              "      <td>2006.0</td>\n",
              "      <td>398.0</td>\n",
              "      <td>7.0</td>\n",
              "      <td>7000</td>\n",
              "    </tr>\n",
              "  </tbody>\n",
              "</table>\n",
              "</div>"
            ],
            "text/plain": [
              "      color  num_critic_for_reviews  duration  actor_3_facebook_likes  \\\n",
              "2988  Color                   363.0     110.0                    74.0   \n",
              "\n",
              "      actor_1_facebook_likes      gross                      genres  \\\n",
              "2988                   629.0  2201412.0  Comedy|Drama|Horror|Sci-Fi   \n",
              "\n",
              "     movie_title  num_voted_users  cast_total_facebook_likes  \\\n",
              "2988   The Host             68883                       1173   \n",
              "\n",
              "      facenumber_in_poster      country        budget  title_year  \\\n",
              "2988                   0.0  South Korea  1.221550e+10      2006.0   \n",
              "\n",
              "      actor_2_facebook_likes  imdb_score  movie_facebook_likes  \n",
              "2988                   398.0         7.0                  7000  "
            ]
          },
          "execution_count": 139,
          "metadata": {},
          "output_type": "execute_result"
        }
      ],
      "source": [
        "movie[movie['budget'] == movie['budget'].max()]"
      ]
    },
    {
      "cell_type": "code",
      "execution_count": null,
      "id": "b7da3d60",
      "metadata": {
        "colab": {
          "base_uri": "https://localhost:8080/",
          "height": 340
        },
        "id": "b7da3d60",
        "outputId": "40982b23-837d-4ab2-88d0-cdb6ad7bf496"
      },
      "outputs": [
        {
          "data": {
            "text/html": [
              "<div>\n",
              "<style scoped>\n",
              "    .dataframe tbody tr th:only-of-type {\n",
              "        vertical-align: middle;\n",
              "    }\n",
              "\n",
              "    .dataframe tbody tr th {\n",
              "        vertical-align: top;\n",
              "    }\n",
              "\n",
              "    .dataframe thead th {\n",
              "        text-align: right;\n",
              "    }\n",
              "</style>\n",
              "<table border=\"1\" class=\"dataframe\">\n",
              "  <thead>\n",
              "    <tr style=\"text-align: right;\">\n",
              "      <th></th>\n",
              "      <th>color</th>\n",
              "      <th>num_critic_for_reviews</th>\n",
              "      <th>duration</th>\n",
              "      <th>actor_3_facebook_likes</th>\n",
              "      <th>actor_1_facebook_likes</th>\n",
              "      <th>gross</th>\n",
              "      <th>genres</th>\n",
              "      <th>movie_title</th>\n",
              "      <th>num_voted_users</th>\n",
              "      <th>cast_total_facebook_likes</th>\n",
              "      <th>facenumber_in_poster</th>\n",
              "      <th>country</th>\n",
              "      <th>budget</th>\n",
              "      <th>title_year</th>\n",
              "      <th>actor_2_facebook_likes</th>\n",
              "      <th>imdb_score</th>\n",
              "      <th>movie_facebook_likes</th>\n",
              "    </tr>\n",
              "  </thead>\n",
              "  <tbody>\n",
              "    <tr>\n",
              "      <th>2988</th>\n",
              "      <td>Color</td>\n",
              "      <td>363.0</td>\n",
              "      <td>110.0</td>\n",
              "      <td>74.0</td>\n",
              "      <td>629.0</td>\n",
              "      <td>2201412.0</td>\n",
              "      <td>Comedy|Drama|Horror|Sci-Fi</td>\n",
              "      <td>The Host</td>\n",
              "      <td>68883</td>\n",
              "      <td>1173</td>\n",
              "      <td>0.0</td>\n",
              "      <td>South Korea</td>\n",
              "      <td>1.221550e+10</td>\n",
              "      <td>2006.0</td>\n",
              "      <td>398.0</td>\n",
              "      <td>7.0</td>\n",
              "      <td>7000</td>\n",
              "    </tr>\n",
              "    <tr>\n",
              "      <th>3859</th>\n",
              "      <td>Color</td>\n",
              "      <td>202.0</td>\n",
              "      <td>112.0</td>\n",
              "      <td>38.0</td>\n",
              "      <td>717.0</td>\n",
              "      <td>211667.0</td>\n",
              "      <td>Crime|Drama</td>\n",
              "      <td>Lady Vengeance</td>\n",
              "      <td>53508</td>\n",
              "      <td>907</td>\n",
              "      <td>0.0</td>\n",
              "      <td>South Korea</td>\n",
              "      <td>4.200000e+09</td>\n",
              "      <td>2005.0</td>\n",
              "      <td>126.0</td>\n",
              "      <td>7.7</td>\n",
              "      <td>4000</td>\n",
              "    </tr>\n",
              "    <tr>\n",
              "      <th>3005</th>\n",
              "      <td>Color</td>\n",
              "      <td>73.0</td>\n",
              "      <td>134.0</td>\n",
              "      <td>0.0</td>\n",
              "      <td>9.0</td>\n",
              "      <td>195888.0</td>\n",
              "      <td>Drama|Romance|War</td>\n",
              "      <td>Fateless</td>\n",
              "      <td>5603</td>\n",
              "      <td>11</td>\n",
              "      <td>0.0</td>\n",
              "      <td>Hungary</td>\n",
              "      <td>2.500000e+09</td>\n",
              "      <td>2005.0</td>\n",
              "      <td>2.0</td>\n",
              "      <td>7.1</td>\n",
              "      <td>607</td>\n",
              "    </tr>\n",
              "    <tr>\n",
              "      <th>2323</th>\n",
              "      <td>Color</td>\n",
              "      <td>174.0</td>\n",
              "      <td>134.0</td>\n",
              "      <td>745.0</td>\n",
              "      <td>893.0</td>\n",
              "      <td>2298191.0</td>\n",
              "      <td>Adventure|Animation|Fantasy</td>\n",
              "      <td>Princess Mononoke</td>\n",
              "      <td>221552</td>\n",
              "      <td>2710</td>\n",
              "      <td>0.0</td>\n",
              "      <td>Japan</td>\n",
              "      <td>2.400000e+09</td>\n",
              "      <td>1997.0</td>\n",
              "      <td>851.0</td>\n",
              "      <td>8.4</td>\n",
              "      <td>11000</td>\n",
              "    </tr>\n",
              "    <tr>\n",
              "      <th>2334</th>\n",
              "      <td>Color</td>\n",
              "      <td>105.0</td>\n",
              "      <td>103.0</td>\n",
              "      <td>101.0</td>\n",
              "      <td>488.0</td>\n",
              "      <td>410388.0</td>\n",
              "      <td>Action|Adventure|Animation|Family|Sci-Fi|Thriller</td>\n",
              "      <td>Steamboy</td>\n",
              "      <td>13727</td>\n",
              "      <td>991</td>\n",
              "      <td>1.0</td>\n",
              "      <td>Japan</td>\n",
              "      <td>2.127520e+09</td>\n",
              "      <td>2004.0</td>\n",
              "      <td>336.0</td>\n",
              "      <td>6.9</td>\n",
              "      <td>973</td>\n",
              "    </tr>\n",
              "  </tbody>\n",
              "</table>\n",
              "</div>"
            ],
            "text/plain": [
              "      color  num_critic_for_reviews  duration  actor_3_facebook_likes  \\\n",
              "2988  Color                   363.0     110.0                    74.0   \n",
              "3859  Color                   202.0     112.0                    38.0   \n",
              "3005  Color                    73.0     134.0                     0.0   \n",
              "2323  Color                   174.0     134.0                   745.0   \n",
              "2334  Color                   105.0     103.0                   101.0   \n",
              "\n",
              "      actor_1_facebook_likes      gross  \\\n",
              "2988                   629.0  2201412.0   \n",
              "3859                   717.0   211667.0   \n",
              "3005                     9.0   195888.0   \n",
              "2323                   893.0  2298191.0   \n",
              "2334                   488.0   410388.0   \n",
              "\n",
              "                                                 genres         movie_title  \\\n",
              "2988                         Comedy|Drama|Horror|Sci-Fi           The Host    \n",
              "3859                                        Crime|Drama     Lady Vengeance    \n",
              "3005                                  Drama|Romance|War           Fateless    \n",
              "2323                        Adventure|Animation|Fantasy  Princess Mononoke    \n",
              "2334  Action|Adventure|Animation|Family|Sci-Fi|Thriller           Steamboy    \n",
              "\n",
              "      num_voted_users  cast_total_facebook_likes  facenumber_in_poster  \\\n",
              "2988            68883                       1173                   0.0   \n",
              "3859            53508                        907                   0.0   \n",
              "3005             5603                         11                   0.0   \n",
              "2323           221552                       2710                   0.0   \n",
              "2334            13727                        991                   1.0   \n",
              "\n",
              "          country        budget  title_year  actor_2_facebook_likes  \\\n",
              "2988  South Korea  1.221550e+10      2006.0                   398.0   \n",
              "3859  South Korea  4.200000e+09      2005.0                   126.0   \n",
              "3005      Hungary  2.500000e+09      2005.0                     2.0   \n",
              "2323        Japan  2.400000e+09      1997.0                   851.0   \n",
              "2334        Japan  2.127520e+09      2004.0                   336.0   \n",
              "\n",
              "      imdb_score  movie_facebook_likes  \n",
              "2988         7.0                  7000  \n",
              "3859         7.7                  4000  \n",
              "3005         7.1                   607  \n",
              "2323         8.4                 11000  \n",
              "2334         6.9                   973  "
            ]
          },
          "execution_count": 140,
          "metadata": {},
          "output_type": "execute_result"
        }
      ],
      "source": [
        "movie.sort_values(by=\"budget\",ascending=False).head(5)"
      ]
    },
    {
      "cell_type": "markdown",
      "id": "e29ddcce",
      "metadata": {
        "id": "e29ddcce"
      },
      "source": [
        "<h3><font color='red'>The Host is the most expensive film</font></h3>"
      ]
    },
    {
      "cell_type": "markdown",
      "id": "d4302a8d",
      "metadata": {
        "id": "d4302a8d"
      },
      "source": [
        "### 3. Which movie is Longest?"
      ]
    },
    {
      "cell_type": "code",
      "execution_count": null,
      "id": "940f6b07",
      "metadata": {
        "colab": {
          "base_uri": "https://localhost:8080/",
          "height": 162
        },
        "id": "940f6b07",
        "outputId": "309fb9c2-a662-4945-ef81-d4a99afe943d"
      },
      "outputs": [
        {
          "data": {
            "text/html": [
              "<div>\n",
              "<style scoped>\n",
              "    .dataframe tbody tr th:only-of-type {\n",
              "        vertical-align: middle;\n",
              "    }\n",
              "\n",
              "    .dataframe tbody tr th {\n",
              "        vertical-align: top;\n",
              "    }\n",
              "\n",
              "    .dataframe thead th {\n",
              "        text-align: right;\n",
              "    }\n",
              "</style>\n",
              "<table border=\"1\" class=\"dataframe\">\n",
              "  <thead>\n",
              "    <tr style=\"text-align: right;\">\n",
              "      <th></th>\n",
              "      <th>color</th>\n",
              "      <th>num_critic_for_reviews</th>\n",
              "      <th>duration</th>\n",
              "      <th>actor_3_facebook_likes</th>\n",
              "      <th>actor_1_facebook_likes</th>\n",
              "      <th>gross</th>\n",
              "      <th>genres</th>\n",
              "      <th>movie_title</th>\n",
              "      <th>num_voted_users</th>\n",
              "      <th>cast_total_facebook_likes</th>\n",
              "      <th>facenumber_in_poster</th>\n",
              "      <th>country</th>\n",
              "      <th>budget</th>\n",
              "      <th>title_year</th>\n",
              "      <th>actor_2_facebook_likes</th>\n",
              "      <th>imdb_score</th>\n",
              "      <th>movie_facebook_likes</th>\n",
              "    </tr>\n",
              "  </thead>\n",
              "  <tbody>\n",
              "    <tr>\n",
              "      <th>1501</th>\n",
              "      <td>Color</td>\n",
              "      <td>12.0</td>\n",
              "      <td>330.0</td>\n",
              "      <td>672.0</td>\n",
              "      <td>848.0</td>\n",
              "      <td>4496583.0</td>\n",
              "      <td>Crime|Drama</td>\n",
              "      <td>Blood In, Blood Out</td>\n",
              "      <td>23181</td>\n",
              "      <td>3227</td>\n",
              "      <td>2.0</td>\n",
              "      <td>USA</td>\n",
              "      <td>35000000.0</td>\n",
              "      <td>1993.0</td>\n",
              "      <td>674.0</td>\n",
              "      <td>8.0</td>\n",
              "      <td>6000</td>\n",
              "    </tr>\n",
              "  </tbody>\n",
              "</table>\n",
              "</div>"
            ],
            "text/plain": [
              "      color  num_critic_for_reviews  duration  actor_3_facebook_likes  \\\n",
              "1501  Color                    12.0     330.0                   672.0   \n",
              "\n",
              "      actor_1_facebook_likes      gross       genres           movie_title  \\\n",
              "1501                   848.0  4496583.0  Crime|Drama  Blood In, Blood Out    \n",
              "\n",
              "      num_voted_users  cast_total_facebook_likes  facenumber_in_poster  \\\n",
              "1501            23181                       3227                   2.0   \n",
              "\n",
              "     country      budget  title_year  actor_2_facebook_likes  imdb_score  \\\n",
              "1501     USA  35000000.0      1993.0                   674.0         8.0   \n",
              "\n",
              "      movie_facebook_likes  \n",
              "1501                  6000  "
            ]
          },
          "execution_count": 141,
          "metadata": {},
          "output_type": "execute_result"
        }
      ],
      "source": [
        "movie[movie['duration'] == movie['duration'].max()]"
      ]
    },
    {
      "cell_type": "markdown",
      "id": "447e48e6",
      "metadata": {
        "id": "447e48e6"
      },
      "source": [
        "<h3><font color='red'>Blood In, Blood Out is the longest movie, with 330 minutes (5 hours and 30 minutes) of runtime.</font></h3>"
      ]
    },
    {
      "cell_type": "markdown",
      "id": "8eea5e6a",
      "metadata": {
        "id": "8eea5e6a"
      },
      "source": [
        "### 4. In which year most movies were released?"
      ]
    },
    {
      "cell_type": "code",
      "execution_count": null,
      "id": "2d60a611",
      "metadata": {
        "colab": {
          "base_uri": "https://localhost:8080/",
          "height": 773
        },
        "id": "2d60a611",
        "outputId": "21e67f1c-5fa7-42f9-f8a0-bf970ccdb93c"
      },
      "outputs": [
        {
          "data": {
            "image/png": "[encoded data removed]",
            "text/plain": [
              "<Figure size 1440x864 with 1 Axes>"
            ]
          },
          "metadata": {},
          "output_type": "display_data"
        }
      ],
      "source": [
        "plt.figure(figsize=(20,12))\n",
        "edgecolor=(0,0,0),\n",
        "sns.countplot(movie['title_year'].sort_values(), palette = \"Dark2\", edgecolor=(0,0,0))\n",
        "plt.title(\"Movie Release count by Year\",fontsize=20)\n",
        "plt.xlabel('Release Year')\n",
        "plt.ylabel('Number of Movies Release')\n",
        "plt.xticks(fontsize=12,rotation=90)\n",
        "plt.show()"
      ]
    },
    {
      "cell_type": "code",
      "execution_count": null,
      "id": "9e06b6c3",
      "metadata": {
        "colab": {
          "base_uri": "https://localhost:8080/"
        },
        "id": "9e06b6c3",
        "outputId": "0725d700-682e-49f9-bcb4-8ffbbf8965ab"
      },
      "outputs": [
        {
          "data": {
            "text/plain": [
              "2009.0    256\n",
              "2014.0    242\n",
              "2006.0    237\n",
              "Name: title_year, dtype: int64"
            ]
          },
          "execution_count": 143,
          "metadata": {},
          "output_type": "execute_result"
        }
      ],
      "source": [
        "movie['title_year'].value_counts().head(3)"
      ]
    },
    {
      "cell_type": "markdown",
      "id": "51699e34",
      "metadata": {
        "id": "51699e34"
      },
      "source": [
        "<h3><font color='red'>In 2009 total 256 movies were released.</font></h3>"
      ]
    },
    {
      "cell_type": "markdown",
      "id": "a4173ded",
      "metadata": {
        "id": "a4173ded"
      },
      "source": [
        "### 5. Movies with Highest and Lowest ratings."
      ]
    },
    {
      "cell_type": "code",
      "execution_count": null,
      "id": "bb362997",
      "metadata": {
        "colab": {
          "base_uri": "https://localhost:8080/",
          "height": 179
        },
        "id": "bb362997",
        "outputId": "d05fa205-0380-4ef8-d12c-1ca0238e28d6"
      },
      "outputs": [
        {
          "data": {
            "text/html": [
              "<div>\n",
              "<style scoped>\n",
              "    .dataframe tbody tr th:only-of-type {\n",
              "        vertical-align: middle;\n",
              "    }\n",
              "\n",
              "    .dataframe tbody tr th {\n",
              "        vertical-align: top;\n",
              "    }\n",
              "\n",
              "    .dataframe thead th {\n",
              "        text-align: right;\n",
              "    }\n",
              "</style>\n",
              "<table border=\"1\" class=\"dataframe\">\n",
              "  <thead>\n",
              "    <tr style=\"text-align: right;\">\n",
              "      <th></th>\n",
              "      <th>color</th>\n",
              "      <th>num_critic_for_reviews</th>\n",
              "      <th>duration</th>\n",
              "      <th>actor_3_facebook_likes</th>\n",
              "      <th>actor_1_facebook_likes</th>\n",
              "      <th>gross</th>\n",
              "      <th>genres</th>\n",
              "      <th>movie_title</th>\n",
              "      <th>num_voted_users</th>\n",
              "      <th>cast_total_facebook_likes</th>\n",
              "      <th>facenumber_in_poster</th>\n",
              "      <th>country</th>\n",
              "      <th>budget</th>\n",
              "      <th>title_year</th>\n",
              "      <th>actor_2_facebook_likes</th>\n",
              "      <th>imdb_score</th>\n",
              "      <th>movie_facebook_likes</th>\n",
              "    </tr>\n",
              "  </thead>\n",
              "  <tbody>\n",
              "    <tr>\n",
              "      <th>1937</th>\n",
              "      <td>Color</td>\n",
              "      <td>199.0</td>\n",
              "      <td>142.0</td>\n",
              "      <td>461.0</td>\n",
              "      <td>11000.0</td>\n",
              "      <td>28341469.0</td>\n",
              "      <td>Crime|Drama</td>\n",
              "      <td>The Shawshank Redemption</td>\n",
              "      <td>1689764</td>\n",
              "      <td>13495</td>\n",
              "      <td>0.0</td>\n",
              "      <td>USA</td>\n",
              "      <td>25000000.0</td>\n",
              "      <td>1994.0</td>\n",
              "      <td>745.0</td>\n",
              "      <td>9.3</td>\n",
              "      <td>108000</td>\n",
              "    </tr>\n",
              "  </tbody>\n",
              "</table>\n",
              "</div>"
            ],
            "text/plain": [
              "      color  num_critic_for_reviews  duration  actor_3_facebook_likes  \\\n",
              "1937  Color                   199.0     142.0                   461.0   \n",
              "\n",
              "      actor_1_facebook_likes       gross       genres  \\\n",
              "1937                 11000.0  28341469.0  Crime|Drama   \n",
              "\n",
              "                    movie_title  num_voted_users  cast_total_facebook_likes  \\\n",
              "1937  The Shawshank Redemption           1689764                      13495   \n",
              "\n",
              "      facenumber_in_poster country      budget  title_year  \\\n",
              "1937                   0.0     USA  25000000.0      1994.0   \n",
              "\n",
              "      actor_2_facebook_likes  imdb_score  movie_facebook_likes  \n",
              "1937                   745.0         9.3                108000  "
            ]
          },
          "execution_count": 144,
          "metadata": {},
          "output_type": "execute_result"
        }
      ],
      "source": [
        "movie[movie['imdb_score']==movie['imdb_score'].max()]"
      ]
    },
    {
      "cell_type": "code",
      "execution_count": null,
      "id": "fa3c0bc3",
      "metadata": {
        "colab": {
          "base_uri": "https://localhost:8080/",
          "height": 197
        },
        "id": "fa3c0bc3",
        "outputId": "05af6f95-7d92-4e33-a542-417a8d281a3b"
      },
      "outputs": [
        {
          "data": {
            "text/html": [
              "<div>\n",
              "<style scoped>\n",
              "    .dataframe tbody tr th:only-of-type {\n",
              "        vertical-align: middle;\n",
              "    }\n",
              "\n",
              "    .dataframe tbody tr th {\n",
              "        vertical-align: top;\n",
              "    }\n",
              "\n",
              "    .dataframe thead th {\n",
              "        text-align: right;\n",
              "    }\n",
              "</style>\n",
              "<table border=\"1\" class=\"dataframe\">\n",
              "  <thead>\n",
              "    <tr style=\"text-align: right;\">\n",
              "      <th></th>\n",
              "      <th>color</th>\n",
              "      <th>num_critic_for_reviews</th>\n",
              "      <th>duration</th>\n",
              "      <th>actor_3_facebook_likes</th>\n",
              "      <th>actor_1_facebook_likes</th>\n",
              "      <th>gross</th>\n",
              "      <th>genres</th>\n",
              "      <th>movie_title</th>\n",
              "      <th>num_voted_users</th>\n",
              "      <th>cast_total_facebook_likes</th>\n",
              "      <th>facenumber_in_poster</th>\n",
              "      <th>country</th>\n",
              "      <th>budget</th>\n",
              "      <th>title_year</th>\n",
              "      <th>actor_2_facebook_likes</th>\n",
              "      <th>imdb_score</th>\n",
              "      <th>movie_facebook_likes</th>\n",
              "    </tr>\n",
              "  </thead>\n",
              "  <tbody>\n",
              "    <tr>\n",
              "      <th>2834</th>\n",
              "      <td>Color</td>\n",
              "      <td>84.0</td>\n",
              "      <td>115.0</td>\n",
              "      <td>41.0</td>\n",
              "      <td>569.0</td>\n",
              "      <td>73000942.0</td>\n",
              "      <td>Documentary|Music</td>\n",
              "      <td>Justin Bieber: Never Say Never</td>\n",
              "      <td>74351</td>\n",
              "      <td>714</td>\n",
              "      <td>1.0</td>\n",
              "      <td>USA</td>\n",
              "      <td>13000000.0</td>\n",
              "      <td>2011.0</td>\n",
              "      <td>69.0</td>\n",
              "      <td>1.6</td>\n",
              "      <td>62000</td>\n",
              "    </tr>\n",
              "  </tbody>\n",
              "</table>\n",
              "</div>"
            ],
            "text/plain": [
              "      color  num_critic_for_reviews  duration  actor_3_facebook_likes  \\\n",
              "2834  Color                    84.0     115.0                    41.0   \n",
              "\n",
              "      actor_1_facebook_likes       gross             genres  \\\n",
              "2834                   569.0  73000942.0  Documentary|Music   \n",
              "\n",
              "                          movie_title  num_voted_users  \\\n",
              "2834  Justin Bieber: Never Say Never             74351   \n",
              "\n",
              "      cast_total_facebook_likes  facenumber_in_poster country      budget  \\\n",
              "2834                        714                   1.0     USA  13000000.0   \n",
              "\n",
              "      title_year  actor_2_facebook_likes  imdb_score  movie_facebook_likes  \n",
              "2834      2011.0                    69.0         1.6                 62000  "
            ]
          },
          "execution_count": 145,
          "metadata": {},
          "output_type": "execute_result"
        }
      ],
      "source": [
        "movie[movie['imdb_score']==movie['imdb_score'].min()]"
      ]
    },
    {
      "cell_type": "markdown",
      "id": "ea65b8c9",
      "metadata": {
        "id": "ea65b8c9"
      },
      "source": [
        "<h3><font color='red'>The Shawshank Redemption movie have imdb rating of 9.3 whereas Justin Bieber: Never Say Never\tmovie have lowest popularity with imdb rating of 1.6</font></h3>"
      ]
    },
    {
      "cell_type": "markdown",
      "id": "da3cdd00",
      "metadata": {
        "id": "da3cdd00"
      },
      "source": [
        "### 6. which Countries created more than 50 movies?"
      ]
    },
    {
      "cell_type": "code",
      "execution_count": null,
      "id": "d5d96a95",
      "metadata": {
        "colab": {
          "base_uri": "https://localhost:8080/",
          "height": 206
        },
        "id": "d5d96a95",
        "outputId": "31c695e5-b3a7-4fe2-b2c3-f73eec5aa7d8"
      },
      "outputs": [
        {
          "data": {
            "text/html": [
              "<div>\n",
              "<style scoped>\n",
              "    .dataframe tbody tr th:only-of-type {\n",
              "        vertical-align: middle;\n",
              "    }\n",
              "\n",
              "    .dataframe tbody tr th {\n",
              "        vertical-align: top;\n",
              "    }\n",
              "\n",
              "    .dataframe thead th {\n",
              "        text-align: right;\n",
              "    }\n",
              "</style>\n",
              "<table border=\"1\" class=\"dataframe\">\n",
              "  <thead>\n",
              "    <tr style=\"text-align: right;\">\n",
              "      <th></th>\n",
              "      <th>counts</th>\n",
              "    </tr>\n",
              "    <tr>\n",
              "      <th>country</th>\n",
              "      <th></th>\n",
              "    </tr>\n",
              "  </thead>\n",
              "  <tbody>\n",
              "    <tr>\n",
              "      <th>USA</th>\n",
              "      <td>3675</td>\n",
              "    </tr>\n",
              "    <tr>\n",
              "      <th>UK</th>\n",
              "      <td>432</td>\n",
              "    </tr>\n",
              "    <tr>\n",
              "      <th>France</th>\n",
              "      <td>151</td>\n",
              "    </tr>\n",
              "    <tr>\n",
              "      <th>Canada</th>\n",
              "      <td>121</td>\n",
              "    </tr>\n",
              "  </tbody>\n",
              "</table>\n",
              "</div>"
            ],
            "text/plain": [
              "         counts\n",
              "country        \n",
              "USA        3675\n",
              "UK          432\n",
              "France      151\n",
              "Canada      121"
            ]
          },
          "execution_count": 146,
          "metadata": {},
          "output_type": "execute_result"
        }
      ],
      "source": [
        "a = movie['country'].value_counts().rename_axis('country').to_frame('counts')\n",
        "a.head(4)"
      ]
    },
    {
      "cell_type": "code",
      "execution_count": null,
      "id": "6802711f",
      "metadata": {
        "colab": {
          "base_uri": "https://localhost:8080/",
          "height": 437
        },
        "id": "6802711f",
        "outputId": "974d5b22-d1c1-4710-c44a-d2cb71b68ec9"
      },
      "outputs": [
        {
          "data": {
            "text/plain": [
              "Text(0, 0.5, 'Count of Total Movies')"
            ]
          },
          "execution_count": 147,
          "metadata": {},
          "output_type": "execute_result"
        },
        {
          "data": {
            "image/png": "[encoded data removed]",
            "text/plain": [
              "<Figure size 1440x360 with 1 Axes>"
            ]
          },
          "metadata": {},
          "output_type": "display_data"
        }
      ],
      "source": [
        "a.plot(kind = \"bar\",color = \"blue\",edgecolor = \"black\",figsize = (20,5)) \n",
        "plt.xticks(rotation = 50)\n",
        "plt.xlabel(\"Production Countries\")\n",
        "plt.ylabel(\"Count of Total Movies\")"
      ]
    },
    {
      "cell_type": "markdown",
      "id": "b18ad837",
      "metadata": {
        "id": "b18ad837"
      },
      "source": [
        "<h3><font color='red'>USA created the most number of movies</font></h3>"
      ]
    },
    {
      "cell_type": "markdown",
      "id": "edd40b78",
      "metadata": {
        "id": "edd40b78"
      },
      "source": [
        "# Now we have to take the statistics about the quality of data"
      ]
    },
    {
      "cell_type": "code",
      "execution_count": null,
      "id": "c75b7c50",
      "metadata": {
        "colab": {
          "base_uri": "https://localhost:8080/",
          "height": 514
        },
        "id": "c75b7c50",
        "outputId": "33e8b54b-b71b-46df-e69d-d9dd9c0de8d0"
      },
      "outputs": [
        {
          "data": {
            "text/plain": [
              "<AxesSubplot:>"
            ]
          },
          "execution_count": 148,
          "metadata": {},
          "output_type": "execute_result"
        },
        {
          "data": {
            "image/png": "[encoded data removed]",
            "text/plain": [
              "<Figure size 1080x576 with 1 Axes>"
            ]
          },
          "metadata": {},
          "output_type": "display_data"
        }
      ],
      "source": [
        "sns.set(rc = {'figure.figsize':(15,8)})\n",
        "sns.boxplot(data = movie)"
      ]
    },
    {
      "cell_type": "markdown",
      "id": "1774460c",
      "metadata": {
        "id": "1774460c"
      },
      "source": [
        "<h1><font color='blue'>Feature Engineering</font></h1>"
      ]
    },
    {
      "cell_type": "code",
      "execution_count": null,
      "id": "a502fba3",
      "metadata": {
        "colab": {
          "base_uri": "https://localhost:8080/"
        },
        "id": "a502fba3",
        "outputId": "3610340f-e115-469a-9c7c-fd04eb4743f6"
      },
      "outputs": [
        {
          "data": {
            "text/plain": [
              "Index(['color', 'num_critic_for_reviews', 'duration', 'actor_3_facebook_likes',\n",
              "       'actor_1_facebook_likes', 'gross', 'genres', 'movie_title',\n",
              "       'num_voted_users', 'cast_total_facebook_likes', 'facenumber_in_poster',\n",
              "       'country', 'budget', 'title_year', 'actor_2_facebook_likes',\n",
              "       'imdb_score', 'movie_facebook_likes'],\n",
              "      dtype='object')"
            ]
          },
          "execution_count": 149,
          "metadata": {},
          "output_type": "execute_result"
        }
      ],
      "source": [
        "movie.columns\n"
      ]
    },
    {
      "cell_type": "code",
      "execution_count": null,
      "id": "c8001535",
      "metadata": {
        "id": "c8001535"
      },
      "outputs": [],
      "source": [
        "# Separate the numerical and categorical features\n",
        "df_num = movie.select_dtypes([np.number])\n",
        "df_cat = movie.select_dtypes(['object'])"
      ]
    },
    {
      "cell_type": "code",
      "execution_count": null,
      "id": "b3a1af01",
      "metadata": {
        "colab": {
          "base_uri": "https://localhost:8080/",
          "height": 207
        },
        "id": "b3a1af01",
        "outputId": "caa6ae9f-3e2e-49d1-fd02-0aff90cf433e",
        "scrolled": true
      },
      "outputs": [
        {
          "data": {
            "text/html": [
              "<div>\n",
              "<style scoped>\n",
              "    .dataframe tbody tr th:only-of-type {\n",
              "        vertical-align: middle;\n",
              "    }\n",
              "\n",
              "    .dataframe tbody tr th {\n",
              "        vertical-align: top;\n",
              "    }\n",
              "\n",
              "    .dataframe thead th {\n",
              "        text-align: right;\n",
              "    }\n",
              "</style>\n",
              "<table border=\"1\" class=\"dataframe\">\n",
              "  <thead>\n",
              "    <tr style=\"text-align: right;\">\n",
              "      <th></th>\n",
              "      <th>num_critic_for_reviews</th>\n",
              "      <th>duration</th>\n",
              "      <th>actor_3_facebook_likes</th>\n",
              "      <th>actor_1_facebook_likes</th>\n",
              "      <th>gross</th>\n",
              "      <th>num_voted_users</th>\n",
              "      <th>cast_total_facebook_likes</th>\n",
              "      <th>facenumber_in_poster</th>\n",
              "      <th>budget</th>\n",
              "      <th>title_year</th>\n",
              "      <th>actor_2_facebook_likes</th>\n",
              "      <th>imdb_score</th>\n",
              "      <th>movie_facebook_likes</th>\n",
              "    </tr>\n",
              "  </thead>\n",
              "  <tbody>\n",
              "    <tr>\n",
              "      <th>0</th>\n",
              "      <td>723.0</td>\n",
              "      <td>178.0</td>\n",
              "      <td>855.0</td>\n",
              "      <td>1000.0</td>\n",
              "      <td>760505847.0</td>\n",
              "      <td>886204</td>\n",
              "      <td>4834</td>\n",
              "      <td>0.0</td>\n",
              "      <td>237000000.0</td>\n",
              "      <td>2009.0</td>\n",
              "      <td>936.0</td>\n",
              "      <td>7.9</td>\n",
              "      <td>33000</td>\n",
              "    </tr>\n",
              "    <tr>\n",
              "      <th>1</th>\n",
              "      <td>302.0</td>\n",
              "      <td>169.0</td>\n",
              "      <td>1000.0</td>\n",
              "      <td>40000.0</td>\n",
              "      <td>309404152.0</td>\n",
              "      <td>471220</td>\n",
              "      <td>48350</td>\n",
              "      <td>0.0</td>\n",
              "      <td>300000000.0</td>\n",
              "      <td>2007.0</td>\n",
              "      <td>5000.0</td>\n",
              "      <td>7.1</td>\n",
              "      <td>0</td>\n",
              "    </tr>\n",
              "    <tr>\n",
              "      <th>2</th>\n",
              "      <td>602.0</td>\n",
              "      <td>148.0</td>\n",
              "      <td>161.0</td>\n",
              "      <td>11000.0</td>\n",
              "      <td>200074175.0</td>\n",
              "      <td>275868</td>\n",
              "      <td>11700</td>\n",
              "      <td>1.0</td>\n",
              "      <td>245000000.0</td>\n",
              "      <td>2015.0</td>\n",
              "      <td>393.0</td>\n",
              "      <td>6.8</td>\n",
              "      <td>85000</td>\n",
              "    </tr>\n",
              "  </tbody>\n",
              "</table>\n",
              "</div>"
            ],
            "text/plain": [
              "   num_critic_for_reviews  duration  actor_3_facebook_likes  \\\n",
              "0                   723.0     178.0                   855.0   \n",
              "1                   302.0     169.0                  1000.0   \n",
              "2                   602.0     148.0                   161.0   \n",
              "\n",
              "   actor_1_facebook_likes        gross  num_voted_users  \\\n",
              "0                  1000.0  760505847.0           886204   \n",
              "1                 40000.0  309404152.0           471220   \n",
              "2                 11000.0  200074175.0           275868   \n",
              "\n",
              "   cast_total_facebook_likes  facenumber_in_poster       budget  title_year  \\\n",
              "0                       4834                   0.0  237000000.0      2009.0   \n",
              "1                      48350                   0.0  300000000.0      2007.0   \n",
              "2                      11700                   1.0  245000000.0      2015.0   \n",
              "\n",
              "   actor_2_facebook_likes  imdb_score  movie_facebook_likes  \n",
              "0                   936.0         7.9                 33000  \n",
              "1                  5000.0         7.1                     0  \n",
              "2                   393.0         6.8                 85000  "
            ]
          },
          "execution_count": 151,
          "metadata": {},
          "output_type": "execute_result"
        }
      ],
      "source": [
        "df_num.head(3)"
      ]
    },
    {
      "cell_type": "code",
      "execution_count": null,
      "id": "a2e43a40",
      "metadata": {
        "colab": {
          "base_uri": "https://localhost:8080/",
          "height": 143
        },
        "id": "a2e43a40",
        "outputId": "376a92bd-5843-4682-f9f3-075b6299c742"
      },
      "outputs": [
        {
          "data": {
            "text/html": [
              "<div>\n",
              "<style scoped>\n",
              "    .dataframe tbody tr th:only-of-type {\n",
              "        vertical-align: middle;\n",
              "    }\n",
              "\n",
              "    .dataframe tbody tr th {\n",
              "        vertical-align: top;\n",
              "    }\n",
              "\n",
              "    .dataframe thead th {\n",
              "        text-align: right;\n",
              "    }\n",
              "</style>\n",
              "<table border=\"1\" class=\"dataframe\">\n",
              "  <thead>\n",
              "    <tr style=\"text-align: right;\">\n",
              "      <th></th>\n",
              "      <th>color</th>\n",
              "      <th>genres</th>\n",
              "      <th>movie_title</th>\n",
              "      <th>country</th>\n",
              "    </tr>\n",
              "  </thead>\n",
              "  <tbody>\n",
              "    <tr>\n",
              "      <th>0</th>\n",
              "      <td>Color</td>\n",
              "      <td>Action|Adventure|Fantasy|Sci-Fi</td>\n",
              "      <td>Avatar</td>\n",
              "      <td>USA</td>\n",
              "    </tr>\n",
              "    <tr>\n",
              "      <th>1</th>\n",
              "      <td>Color</td>\n",
              "      <td>Action|Adventure|Fantasy</td>\n",
              "      <td>Pirates of the Caribbean: At World's End</td>\n",
              "      <td>USA</td>\n",
              "    </tr>\n",
              "    <tr>\n",
              "      <th>2</th>\n",
              "      <td>Color</td>\n",
              "      <td>Action|Adventure|Thriller</td>\n",
              "      <td>Spectre</td>\n",
              "      <td>UK</td>\n",
              "    </tr>\n",
              "  </tbody>\n",
              "</table>\n",
              "</div>"
            ],
            "text/plain": [
              "   color                           genres  \\\n",
              "0  Color  Action|Adventure|Fantasy|Sci-Fi   \n",
              "1  Color         Action|Adventure|Fantasy   \n",
              "2  Color        Action|Adventure|Thriller   \n",
              "\n",
              "                                 movie_title country  \n",
              "0                                    Avatar      USA  \n",
              "1  Pirates of the Caribbean: At World's End      USA  \n",
              "2                                   Spectre       UK  "
            ]
          },
          "execution_count": 152,
          "metadata": {},
          "output_type": "execute_result"
        }
      ],
      "source": [
        "df_cat.head(3)"
      ]
    },
    {
      "cell_type": "markdown",
      "id": "6a7e5f0e",
      "metadata": {
        "id": "6a7e5f0e"
      },
      "source": [
        "### Here we have to handle the categorical features"
      ]
    },
    {
      "cell_type": "code",
      "execution_count": null,
      "id": "e21eb539",
      "metadata": {
        "colab": {
          "base_uri": "https://localhost:8080/"
        },
        "id": "e21eb539",
        "outputId": "2aa72957-7333-4349-8620-a52c595adc7c"
      },
      "outputs": [
        {
          "data": {
            "text/plain": [
              "array(['Color', 'Black and White'], dtype=object)"
            ]
          },
          "execution_count": 153,
          "metadata": {},
          "output_type": "execute_result"
        }
      ],
      "source": [
        "df_cat['color'].unique()"
      ]
    },
    {
      "cell_type": "code",
      "execution_count": null,
      "id": "677d5a61",
      "metadata": {
        "id": "677d5a61"
      },
      "outputs": [],
      "source": [
        "df_cat['color'].mask(df_cat['color'] == 'Color', 1, inplace=True)\n",
        "df_cat['color'].mask(df_cat['color'] == 'Black and White', 0, inplace=True)"
      ]
    },
    {
      "cell_type": "code",
      "execution_count": null,
      "id": "7dc5072a",
      "metadata": {
        "id": "7dc5072a"
      },
      "outputs": [],
      "source": [
        "df_cat.drop(['movie_title'],axis=1,inplace=True)"
      ]
    },
    {
      "cell_type": "code",
      "execution_count": null,
      "id": "a50a4a07",
      "metadata": {
        "colab": {
          "base_uri": "https://localhost:8080/",
          "height": 143
        },
        "id": "a50a4a07",
        "outputId": "662dd9a8-fb4d-44b1-bfa2-e63224e4b574"
      },
      "outputs": [
        {
          "data": {
            "text/html": [
              "<div>\n",
              "<style scoped>\n",
              "    .dataframe tbody tr th:only-of-type {\n",
              "        vertical-align: middle;\n",
              "    }\n",
              "\n",
              "    .dataframe tbody tr th {\n",
              "        vertical-align: top;\n",
              "    }\n",
              "\n",
              "    .dataframe thead th {\n",
              "        text-align: right;\n",
              "    }\n",
              "</style>\n",
              "<table border=\"1\" class=\"dataframe\">\n",
              "  <thead>\n",
              "    <tr style=\"text-align: right;\">\n",
              "      <th></th>\n",
              "      <th>color</th>\n",
              "      <th>genres</th>\n",
              "      <th>country</th>\n",
              "    </tr>\n",
              "  </thead>\n",
              "  <tbody>\n",
              "    <tr>\n",
              "      <th>0</th>\n",
              "      <td>1</td>\n",
              "      <td>Action|Adventure|Fantasy|Sci-Fi</td>\n",
              "      <td>USA</td>\n",
              "    </tr>\n",
              "    <tr>\n",
              "      <th>1</th>\n",
              "      <td>1</td>\n",
              "      <td>Action|Adventure|Fantasy</td>\n",
              "      <td>USA</td>\n",
              "    </tr>\n",
              "    <tr>\n",
              "      <th>2</th>\n",
              "      <td>1</td>\n",
              "      <td>Action|Adventure|Thriller</td>\n",
              "      <td>UK</td>\n",
              "    </tr>\n",
              "  </tbody>\n",
              "</table>\n",
              "</div>"
            ],
            "text/plain": [
              "  color                           genres country\n",
              "0     1  Action|Adventure|Fantasy|Sci-Fi     USA\n",
              "1     1         Action|Adventure|Fantasy     USA\n",
              "2     1        Action|Adventure|Thriller      UK"
            ]
          },
          "execution_count": 156,
          "metadata": {},
          "output_type": "execute_result"
        }
      ],
      "source": [
        "df_cat.head(3)"
      ]
    },
    {
      "cell_type": "code",
      "execution_count": null,
      "id": "2617e697",
      "metadata": {
        "id": "2617e697"
      },
      "outputs": [],
      "source": [
        "# we have to make the different genres column"
      ]
    },
    {
      "cell_type": "code",
      "execution_count": null,
      "id": "1e642a6c",
      "metadata": {
        "id": "1e642a6c"
      },
      "outputs": [],
      "source": [
        "df_cat = pd.get_dummies(data = df_cat,drop_first=True) "
      ]
    },
    {
      "cell_type": "code",
      "execution_count": null,
      "id": "778832ba",
      "metadata": {
        "id": "778832ba"
      },
      "outputs": [],
      "source": [
        "concat = pd.concat([df_num, df_cat], axis=1)"
      ]
    },
    {
      "cell_type": "code",
      "execution_count": null,
      "id": "8d222adf",
      "metadata": {
        "colab": {
          "base_uri": "https://localhost:8080/",
          "height": 317
        },
        "id": "8d222adf",
        "outputId": "4032f0b6-be3f-498c-f656-359052acc462",
        "scrolled": true
      },
      "outputs": [
        {
          "data": {
            "text/html": [
              "<div>\n",
              "<style scoped>\n",
              "    .dataframe tbody tr th:only-of-type {\n",
              "        vertical-align: middle;\n",
              "    }\n",
              "\n",
              "    .dataframe tbody tr th {\n",
              "        vertical-align: top;\n",
              "    }\n",
              "\n",
              "    .dataframe thead th {\n",
              "        text-align: right;\n",
              "    }\n",
              "</style>\n",
              "<table border=\"1\" class=\"dataframe\">\n",
              "  <thead>\n",
              "    <tr style=\"text-align: right;\">\n",
              "      <th></th>\n",
              "      <th>num_critic_for_reviews</th>\n",
              "      <th>duration</th>\n",
              "      <th>actor_3_facebook_likes</th>\n",
              "      <th>actor_1_facebook_likes</th>\n",
              "      <th>gross</th>\n",
              "      <th>num_voted_users</th>\n",
              "      <th>cast_total_facebook_likes</th>\n",
              "      <th>facenumber_in_poster</th>\n",
              "      <th>budget</th>\n",
              "      <th>title_year</th>\n",
              "      <th>...</th>\n",
              "      <th>country_Soviet Union</th>\n",
              "      <th>country_Spain</th>\n",
              "      <th>country_Sweden</th>\n",
              "      <th>country_Switzerland</th>\n",
              "      <th>country_Taiwan</th>\n",
              "      <th>country_Thailand</th>\n",
              "      <th>country_Turkey</th>\n",
              "      <th>country_UK</th>\n",
              "      <th>country_USA</th>\n",
              "      <th>country_West Germany</th>\n",
              "    </tr>\n",
              "  </thead>\n",
              "  <tbody>\n",
              "    <tr>\n",
              "      <th>0</th>\n",
              "      <td>723.0</td>\n",
              "      <td>178.0</td>\n",
              "      <td>855.0</td>\n",
              "      <td>1000.0</td>\n",
              "      <td>760505847.0</td>\n",
              "      <td>886204</td>\n",
              "      <td>4834</td>\n",
              "      <td>0.0</td>\n",
              "      <td>237000000.0</td>\n",
              "      <td>2009.0</td>\n",
              "      <td>...</td>\n",
              "      <td>0</td>\n",
              "      <td>0</td>\n",
              "      <td>0</td>\n",
              "      <td>0</td>\n",
              "      <td>0</td>\n",
              "      <td>0</td>\n",
              "      <td>0</td>\n",
              "      <td>0</td>\n",
              "      <td>1</td>\n",
              "      <td>0</td>\n",
              "    </tr>\n",
              "    <tr>\n",
              "      <th>1</th>\n",
              "      <td>302.0</td>\n",
              "      <td>169.0</td>\n",
              "      <td>1000.0</td>\n",
              "      <td>40000.0</td>\n",
              "      <td>309404152.0</td>\n",
              "      <td>471220</td>\n",
              "      <td>48350</td>\n",
              "      <td>0.0</td>\n",
              "      <td>300000000.0</td>\n",
              "      <td>2007.0</td>\n",
              "      <td>...</td>\n",
              "      <td>0</td>\n",
              "      <td>0</td>\n",
              "      <td>0</td>\n",
              "      <td>0</td>\n",
              "      <td>0</td>\n",
              "      <td>0</td>\n",
              "      <td>0</td>\n",
              "      <td>0</td>\n",
              "      <td>1</td>\n",
              "      <td>0</td>\n",
              "    </tr>\n",
              "    <tr>\n",
              "      <th>2</th>\n",
              "      <td>602.0</td>\n",
              "      <td>148.0</td>\n",
              "      <td>161.0</td>\n",
              "      <td>11000.0</td>\n",
              "      <td>200074175.0</td>\n",
              "      <td>275868</td>\n",
              "      <td>11700</td>\n",
              "      <td>1.0</td>\n",
              "      <td>245000000.0</td>\n",
              "      <td>2015.0</td>\n",
              "      <td>...</td>\n",
              "      <td>0</td>\n",
              "      <td>0</td>\n",
              "      <td>0</td>\n",
              "      <td>0</td>\n",
              "      <td>0</td>\n",
              "      <td>0</td>\n",
              "      <td>0</td>\n",
              "      <td>1</td>\n",
              "      <td>0</td>\n",
              "      <td>0</td>\n",
              "    </tr>\n",
              "    <tr>\n",
              "      <th>3</th>\n",
              "      <td>813.0</td>\n",
              "      <td>164.0</td>\n",
              "      <td>23000.0</td>\n",
              "      <td>27000.0</td>\n",
              "      <td>448130642.0</td>\n",
              "      <td>1144337</td>\n",
              "      <td>106759</td>\n",
              "      <td>0.0</td>\n",
              "      <td>250000000.0</td>\n",
              "      <td>2012.0</td>\n",
              "      <td>...</td>\n",
              "      <td>0</td>\n",
              "      <td>0</td>\n",
              "      <td>0</td>\n",
              "      <td>0</td>\n",
              "      <td>0</td>\n",
              "      <td>0</td>\n",
              "      <td>0</td>\n",
              "      <td>0</td>\n",
              "      <td>1</td>\n",
              "      <td>0</td>\n",
              "    </tr>\n",
              "    <tr>\n",
              "      <th>5</th>\n",
              "      <td>462.0</td>\n",
              "      <td>132.0</td>\n",
              "      <td>530.0</td>\n",
              "      <td>640.0</td>\n",
              "      <td>73058679.0</td>\n",
              "      <td>212204</td>\n",
              "      <td>1873</td>\n",
              "      <td>1.0</td>\n",
              "      <td>263700000.0</td>\n",
              "      <td>2012.0</td>\n",
              "      <td>...</td>\n",
              "      <td>0</td>\n",
              "      <td>0</td>\n",
              "      <td>0</td>\n",
              "      <td>0</td>\n",
              "      <td>0</td>\n",
              "      <td>0</td>\n",
              "      <td>0</td>\n",
              "      <td>0</td>\n",
              "      <td>1</td>\n",
              "      <td>0</td>\n",
              "    </tr>\n",
              "  </tbody>\n",
              "</table>\n",
              "<p>5 rows × 967 columns</p>\n",
              "</div>"
            ],
            "text/plain": [
              "   num_critic_for_reviews  duration  actor_3_facebook_likes  \\\n",
              "0                   723.0     178.0                   855.0   \n",
              "1                   302.0     169.0                  1000.0   \n",
              "2                   602.0     148.0                   161.0   \n",
              "3                   813.0     164.0                 23000.0   \n",
              "5                   462.0     132.0                   530.0   \n",
              "\n",
              "   actor_1_facebook_likes        gross  num_voted_users  \\\n",
              "0                  1000.0  760505847.0           886204   \n",
              "1                 40000.0  309404152.0           471220   \n",
              "2                 11000.0  200074175.0           275868   \n",
              "3                 27000.0  448130642.0          1144337   \n",
              "5                   640.0   73058679.0           212204   \n",
              "\n",
              "   cast_total_facebook_likes  facenumber_in_poster       budget  title_year  \\\n",
              "0                       4834                   0.0  237000000.0      2009.0   \n",
              "1                      48350                   0.0  300000000.0      2007.0   \n",
              "2                      11700                   1.0  245000000.0      2015.0   \n",
              "3                     106759                   0.0  250000000.0      2012.0   \n",
              "5                       1873                   1.0  263700000.0      2012.0   \n",
              "\n",
              "   ...  country_Soviet Union  country_Spain  country_Sweden  \\\n",
              "0  ...                     0              0               0   \n",
              "1  ...                     0              0               0   \n",
              "2  ...                     0              0               0   \n",
              "3  ...                     0              0               0   \n",
              "5  ...                     0              0               0   \n",
              "\n",
              "   country_Switzerland  country_Taiwan  country_Thailand  country_Turkey  \\\n",
              "0                    0               0                 0               0   \n",
              "1                    0               0                 0               0   \n",
              "2                    0               0                 0               0   \n",
              "3                    0               0                 0               0   \n",
              "5                    0               0                 0               0   \n",
              "\n",
              "   country_UK  country_USA  country_West Germany  \n",
              "0           0            1                     0  \n",
              "1           0            1                     0  \n",
              "2           1            0                     0  \n",
              "3           0            1                     0  \n",
              "5           0            1                     0  \n",
              "\n",
              "[5 rows x 967 columns]"
            ]
          },
          "execution_count": 160,
          "metadata": {},
          "output_type": "execute_result"
        }
      ],
      "source": [
        "concat.head()"
      ]
    },
    {
      "cell_type": "markdown",
      "id": "43bd1eda",
      "metadata": {
        "id": "43bd1eda"
      },
      "source": [
        "<h1><font color='blue'>Predictive Modeling</font></h1>"
      ]
    },
    {
      "cell_type": "code",
      "execution_count": null,
      "id": "55b3e38a",
      "metadata": {
        "id": "55b3e38a"
      },
      "outputs": [],
      "source": [
        "X = concat.drop(['gross'],axis=1)\n",
        "y = concat['gross']"
      ]
    },
    {
      "cell_type": "code",
      "execution_count": null,
      "id": "fc50606a",
      "metadata": {
        "id": "fc50606a"
      },
      "outputs": [],
      "source": [
        "from sklearn.model_selection import train_test_split\n",
        "from sklearn.linear_model import LinearRegression"
      ]
    },
    {
      "cell_type": "code",
      "execution_count": null,
      "id": "f0935ca0",
      "metadata": {
        "id": "f0935ca0"
      },
      "outputs": [],
      "source": [
        "X_train, X_test, y_train, y_test = train_test_split(X, y, test_size = 0.20,random_state = 42)"
      ]
    },
    {
      "cell_type": "code",
      "execution_count": null,
      "id": "7e2ebc2f",
      "metadata": {
        "colab": {
          "base_uri": "https://localhost:8080/"
        },
        "id": "7e2ebc2f",
        "outputId": "f68f78bf-2951-40ac-868b-8317608ef561"
      },
      "outputs": [
        {
          "name": "stdout",
          "output_type": "stream",
          "text": [
            "(973, 966)\n",
            "(3892, 966)\n"
          ]
        }
      ],
      "source": [
        "print(X_test.shape)\n",
        "print(X_train.shape)"
      ]
    },
    {
      "cell_type": "code",
      "execution_count": null,
      "id": "c92bc31a",
      "metadata": {
        "id": "c92bc31a"
      },
      "outputs": [],
      "source": [
        "lr = LinearRegression()"
      ]
    },
    {
      "cell_type": "code",
      "execution_count": null,
      "id": "becd9895",
      "metadata": {
        "colab": {
          "base_uri": "https://localhost:8080/"
        },
        "id": "becd9895",
        "outputId": "765d28e2-33e4-4907-e915-fef8d4bfbbd5"
      },
      "outputs": [
        {
          "data": {
            "text/html": [
              "<style>#sk-container-id-4 {color: black;background-color: white;}#sk-container-id-4 pre{padding: 0;}#sk-container-id-4 div.sk-toggleable {background-color: white;}#sk-container-id-4 label.sk-toggleable__label {cursor: pointer;display: block;width: 100%;margin-bottom: 0;padding: 0.3em;box-sizing: border-box;text-align: center;}#sk-container-id-4 label.sk-toggleable__label-arrow:before {content: \"▸\";float: left;margin-right: 0.25em;color: #696969;}#sk-container-id-4 label.sk-toggleable__label-arrow:hover:before {color: black;}#sk-container-id-4 div.sk-estimator:hover label.sk-toggleable__label-arrow:before {color: black;}#sk-container-id-4 div.sk-toggleable__content {max-height: 0;max-width: 0;overflow: hidden;text-align: left;background-color: #f0f8ff;}#sk-container-id-4 div.sk-toggleable__content pre {margin: 0.2em;color: black;border-radius: 0.25em;background-color: #f0f8ff;}#sk-container-id-4 input.sk-toggleable__control:checked~div.sk-toggleable__content {max-height: 200px;max-width: 100%;overflow: auto;}#sk-container-id-4 input.sk-toggleable__control:checked~label.sk-toggleable__label-arrow:before {content: \"▾\";}#sk-container-id-4 div.sk-estimator input.sk-toggleable__control:checked~label.sk-toggleable__label {background-color: #d4ebff;}#sk-container-id-4 div.sk-label input.sk-toggleable__control:checked~label.sk-toggleable__label {background-color: #d4ebff;}#sk-container-id-4 input.sk-hidden--visually {border: 0;clip: rect(1px 1px 1px 1px);clip: rect(1px, 1px, 1px, 1px);height: 1px;margin: -1px;overflow: hidden;padding: 0;position: absolute;width: 1px;}#sk-container-id-4 div.sk-estimator {font-family: monospace;background-color: #f0f8ff;border: 1px dotted black;border-radius: 0.25em;box-sizing: border-box;margin-bottom: 0.5em;}#sk-container-id-4 div.sk-estimator:hover {background-color: #d4ebff;}#sk-container-id-4 div.sk-parallel-item::after {content: \"\";width: 100%;border-bottom: 1px solid gray;flex-grow: 1;}#sk-container-id-4 div.sk-label:hover label.sk-toggleable__label {background-color: #d4ebff;}#sk-container-id-4 div.sk-serial::before {content: \"\";position: absolute;border-left: 1px solid gray;box-sizing: border-box;top: 0;bottom: 0;left: 50%;z-index: 0;}#sk-container-id-4 div.sk-serial {display: flex;flex-direction: column;align-items: center;background-color: white;padding-right: 0.2em;padding-left: 0.2em;position: relative;}#sk-container-id-4 div.sk-item {position: relative;z-index: 1;}#sk-container-id-4 div.sk-parallel {display: flex;align-items: stretch;justify-content: center;background-color: white;position: relative;}#sk-container-id-4 div.sk-item::before, #sk-container-id-4 div.sk-parallel-item::before {content: \"\";position: absolute;border-left: 1px solid gray;box-sizing: border-box;top: 0;bottom: 0;left: 50%;z-index: -1;}#sk-container-id-4 div.sk-parallel-item {display: flex;flex-direction: column;z-index: 1;position: relative;background-color: white;}#sk-container-id-4 div.sk-parallel-item:first-child::after {align-self: flex-end;width: 50%;}#sk-container-id-4 div.sk-parallel-item:last-child::after {align-self: flex-start;width: 50%;}#sk-container-id-4 div.sk-parallel-item:only-child::after {width: 0;}#sk-container-id-4 div.sk-dashed-wrapped {border: 1px dashed gray;margin: 0 0.4em 0.5em 0.4em;box-sizing: border-box;padding-bottom: 0.4em;background-color: white;}#sk-container-id-4 div.sk-label label {font-family: monospace;font-weight: bold;display: inline-block;line-height: 1.2em;}#sk-container-id-4 div.sk-label-container {text-align: center;}#sk-container-id-4 div.sk-container {/* jupyter's `normalize.less` sets `[hidden] { display: none; }` but bootstrap.min.css set `[hidden] { display: none !important; }` so we also need the `!important` here to be able to override the default hidden behavior on the sphinx rendered scikit-learn.org. See: https://github.com/scikit-learn/scikit-learn/issues/21755 */display: inline-block !important;position: relative;}#sk-container-id-4 div.sk-text-repr-fallback {display: none;}</style><div id=\"sk-container-id-4\" class=\"sk-top-container\"><div class=\"sk-text-repr-fallback\"><pre>LinearRegression()</pre><b>In a Jupyter environment, please rerun this cell to show the HTML representation or trust the notebook. <br />On GitHub, the HTML representation is unable to render, please try loading this page with nbviewer.org.</b></div><div class=\"sk-container\" hidden><div class=\"sk-item\"><div class=\"sk-estimator sk-toggleable\"><input class=\"sk-toggleable__control sk-hidden--visually\" id=\"sk-estimator-id-4\" type=\"checkbox\" checked><label for=\"sk-estimator-id-4\" class=\"sk-toggleable__label sk-toggleable__label-arrow\">LinearRegression</label><div class=\"sk-toggleable__content\"><pre>LinearRegression()</pre></div></div></div></div></div>"
            ],
            "text/plain": [
              "LinearRegression()"
            ]
          },
          "execution_count": 166,
          "metadata": {},
          "output_type": "execute_result"
        }
      ],
      "source": [
        "lr.fit(X_train,y_train)"
      ]
    },
    {
      "cell_type": "code",
      "execution_count": null,
      "id": "4f29f3d7",
      "metadata": {
        "id": "4f29f3d7"
      },
      "outputs": [],
      "source": [
        "y_pred = lr.predict(X_test)"
      ]
    },
    {
      "cell_type": "code",
      "execution_count": null,
      "id": "71790f07",
      "metadata": {
        "colab": {
          "base_uri": "https://localhost:8080/"
        },
        "id": "71790f07",
        "outputId": "0acd9e0d-27a0-47d0-aa75-2ac1596a2267"
      },
      "outputs": [
        {
          "data": {
            "text/plain": [
              "0.44904253001708316"
            ]
          },
          "execution_count": 168,
          "metadata": {},
          "output_type": "execute_result"
        }
      ],
      "source": [
        "lr.score(X_test, y_test)"
      ]
    },
    {
      "cell_type": "code",
      "execution_count": null,
      "id": "GsnAnKmQdtIq",
      "metadata": {
        "colab": {
          "base_uri": "https://localhost:8080/"
        },
        "id": "GsnAnKmQdtIq",
        "outputId": "08bf1a77-74ad-4568-89cd-4a1d3eaf680f"
      },
      "outputs": [
        {
          "data": {
            "text/plain": [
              "0.6700257063080978"
            ]
          },
          "execution_count": 169,
          "metadata": {},
          "output_type": "execute_result"
        }
      ],
      "source": [
        "lr.score(X_train,y_train)"
      ]
    },
    {
      "cell_type": "code",
      "execution_count": null,
      "id": "RxRUDQUl_2v7",
      "metadata": {
        "colab": {
          "base_uri": "https://localhost:8080/"
        },
        "id": "RxRUDQUl_2v7",
        "outputId": "a3dc28c5-4aa3-451a-decb-44acc3ddf693"
      },
      "outputs": [
        {
          "data": {
            "text/plain": [
              "0.35525897798544226"
            ]
          },
          "execution_count": 170,
          "metadata": {},
          "output_type": "execute_result"
        }
      ],
      "source": [
        "r2_score(lr.predict(X_test), y_test)"
      ]
    },
    {
      "cell_type": "code",
      "execution_count": null,
      "id": "a902825d",
      "metadata": {
        "id": "a902825d"
      },
      "outputs": [],
      "source": [
        "from sklearn.ensemble import RandomForestRegressor\n",
        "rf_model = RandomForestRegressor(random_state = 42)"
      ]
    },
    {
      "cell_type": "code",
      "execution_count": null,
      "id": "4aec3ab0",
      "metadata": {
        "colab": {
          "base_uri": "https://localhost:8080/"
        },
        "id": "4aec3ab0",
        "outputId": "9094835a-18aa-4178-ceb5-ad7851e06dbf"
      },
      "outputs": [
        {
          "data": {
            "text/html": [
              "<style>#sk-container-id-5 {color: black;background-color: white;}#sk-container-id-5 pre{padding: 0;}#sk-container-id-5 div.sk-toggleable {background-color: white;}#sk-container-id-5 label.sk-toggleable__label {cursor: pointer;display: block;width: 100%;margin-bottom: 0;padding: 0.3em;box-sizing: border-box;text-align: center;}#sk-container-id-5 label.sk-toggleable__label-arrow:before {content: \"▸\";float: left;margin-right: 0.25em;color: #696969;}#sk-container-id-5 label.sk-toggleable__label-arrow:hover:before {color: black;}#sk-container-id-5 div.sk-estimator:hover label.sk-toggleable__label-arrow:before {color: black;}#sk-container-id-5 div.sk-toggleable__content {max-height: 0;max-width: 0;overflow: hidden;text-align: left;background-color: #f0f8ff;}#sk-container-id-5 div.sk-toggleable__content pre {margin: 0.2em;color: black;border-radius: 0.25em;background-color: #f0f8ff;}#sk-container-id-5 input.sk-toggleable__control:checked~div.sk-toggleable__content {max-height: 200px;max-width: 100%;overflow: auto;}#sk-container-id-5 input.sk-toggleable__control:checked~label.sk-toggleable__label-arrow:before {content: \"▾\";}#sk-container-id-5 div.sk-estimator input.sk-toggleable__control:checked~label.sk-toggleable__label {background-color: #d4ebff;}#sk-container-id-5 div.sk-label input.sk-toggleable__control:checked~label.sk-toggleable__label {background-color: #d4ebff;}#sk-container-id-5 input.sk-hidden--visually {border: 0;clip: rect(1px 1px 1px 1px);clip: rect(1px, 1px, 1px, 1px);height: 1px;margin: -1px;overflow: hidden;padding: 0;position: absolute;width: 1px;}#sk-container-id-5 div.sk-estimator {font-family: monospace;background-color: #f0f8ff;border: 1px dotted black;border-radius: 0.25em;box-sizing: border-box;margin-bottom: 0.5em;}#sk-container-id-5 div.sk-estimator:hover {background-color: #d4ebff;}#sk-container-id-5 div.sk-parallel-item::after {content: \"\";width: 100%;border-bottom: 1px solid gray;flex-grow: 1;}#sk-container-id-5 div.sk-label:hover label.sk-toggleable__label {background-color: #d4ebff;}#sk-container-id-5 div.sk-serial::before {content: \"\";position: absolute;border-left: 1px solid gray;box-sizing: border-box;top: 0;bottom: 0;left: 50%;z-index: 0;}#sk-container-id-5 div.sk-serial {display: flex;flex-direction: column;align-items: center;background-color: white;padding-right: 0.2em;padding-left: 0.2em;position: relative;}#sk-container-id-5 div.sk-item {position: relative;z-index: 1;}#sk-container-id-5 div.sk-parallel {display: flex;align-items: stretch;justify-content: center;background-color: white;position: relative;}#sk-container-id-5 div.sk-item::before, #sk-container-id-5 div.sk-parallel-item::before {content: \"\";position: absolute;border-left: 1px solid gray;box-sizing: border-box;top: 0;bottom: 0;left: 50%;z-index: -1;}#sk-container-id-5 div.sk-parallel-item {display: flex;flex-direction: column;z-index: 1;position: relative;background-color: white;}#sk-container-id-5 div.sk-parallel-item:first-child::after {align-self: flex-end;width: 50%;}#sk-container-id-5 div.sk-parallel-item:last-child::after {align-self: flex-start;width: 50%;}#sk-container-id-5 div.sk-parallel-item:only-child::after {width: 0;}#sk-container-id-5 div.sk-dashed-wrapped {border: 1px dashed gray;margin: 0 0.4em 0.5em 0.4em;box-sizing: border-box;padding-bottom: 0.4em;background-color: white;}#sk-container-id-5 div.sk-label label {font-family: monospace;font-weight: bold;display: inline-block;line-height: 1.2em;}#sk-container-id-5 div.sk-label-container {text-align: center;}#sk-container-id-5 div.sk-container {/* jupyter's `normalize.less` sets `[hidden] { display: none; }` but bootstrap.min.css set `[hidden] { display: none !important; }` so we also need the `!important` here to be able to override the default hidden behavior on the sphinx rendered scikit-learn.org. See: https://github.com/scikit-learn/scikit-learn/issues/21755 */display: inline-block !important;position: relative;}#sk-container-id-5 div.sk-text-repr-fallback {display: none;}</style><div id=\"sk-container-id-5\" class=\"sk-top-container\"><div class=\"sk-text-repr-fallback\"><pre>RandomForestRegressor(random_state=42)</pre><b>In a Jupyter environment, please rerun this cell to show the HTML representation or trust the notebook. <br />On GitHub, the HTML representation is unable to render, please try loading this page with nbviewer.org.</b></div><div class=\"sk-container\" hidden><div class=\"sk-item\"><div class=\"sk-estimator sk-toggleable\"><input class=\"sk-toggleable__control sk-hidden--visually\" id=\"sk-estimator-id-5\" type=\"checkbox\" checked><label for=\"sk-estimator-id-5\" class=\"sk-toggleable__label sk-toggleable__label-arrow\">RandomForestRegressor</label><div class=\"sk-toggleable__content\"><pre>RandomForestRegressor(random_state=42)</pre></div></div></div></div></div>"
            ],
            "text/plain": [
              "RandomForestRegressor(random_state=42)"
            ]
          },
          "execution_count": 172,
          "metadata": {},
          "output_type": "execute_result"
        }
      ],
      "source": [
        "rf_model.fit(X_train,y_train)"
      ]
    },
    {
      "cell_type": "code",
      "execution_count": null,
      "id": "435b538c",
      "metadata": {
        "id": "435b538c"
      },
      "outputs": [],
      "source": [
        "rf_pred = rf_model.predict(X_test)"
      ]
    },
    {
      "cell_type": "code",
      "execution_count": null,
      "id": "c7db1be4",
      "metadata": {
        "colab": {
          "base_uri": "https://localhost:8080/"
        },
        "id": "c7db1be4",
        "outputId": "0fd320f6-9099-4c36-a634-9d5bb570fd25"
      },
      "outputs": [
        {
          "data": {
            "text/plain": [
              "0.6618362293396136"
            ]
          },
          "execution_count": 174,
          "metadata": {},
          "output_type": "execute_result"
        }
      ],
      "source": [
        "rf_model.score(X_test,y_test)"
      ]
    },
    {
      "cell_type": "code",
      "execution_count": null,
      "id": "QnUd-mSNeJ3v",
      "metadata": {
        "colab": {
          "base_uri": "https://localhost:8080/"
        },
        "id": "QnUd-mSNeJ3v",
        "outputId": "66c06577-1706-4f6d-f16f-1b3710c1ba7c"
      },
      "outputs": [
        {
          "data": {
            "text/plain": [
              "0.9506848509066973"
            ]
          },
          "execution_count": 175,
          "metadata": {},
          "output_type": "execute_result"
        }
      ],
      "source": [
        "rf_model.score(X_train,y_train)"
      ]
    },
    {
      "cell_type": "code",
      "execution_count": null,
      "id": "zqi2HiXw_nIc",
      "metadata": {
        "colab": {
          "base_uri": "https://localhost:8080/"
        },
        "id": "zqi2HiXw_nIc",
        "outputId": "e09fde67-bbf3-4c38-dd8e-4e38deeb50f3"
      },
      "outputs": [
        {
          "data": {
            "text/plain": [
              "0.6168895872250062"
            ]
          },
          "execution_count": 176,
          "metadata": {},
          "output_type": "execute_result"
        }
      ],
      "source": [
        "r2_score(rf_model.predict(X_test), y_test)"
      ]
    },
    {
      "cell_type": "code",
      "execution_count": null,
      "id": "12ecb80e",
      "metadata": {
        "id": "12ecb80e"
      },
      "outputs": [],
      "source": [
        "import xgboost as xgb\n",
        "xgb_model = xgb.XGBRegressor(random_state = 42,objective = 'reg:linear',\n",
        "                                  eta = 0.01,\n",
        "                                  max_depth = 3,\n",
        "                                  min_child_weight = 3,\n",
        "                                  subsample = 0.8,\n",
        "                                  gamma = 1.45,\n",
        "                                  colsample_bytree = 0.7,\n",
        "                                  eval_metric = 'rmse',\n",
        "                                  seed = 42,\n",
        "                                  n_estimators = 3000)"
      ]
    },
    {
      "cell_type": "code",
      "execution_count": null,
      "id": "b50987a4",
      "metadata": {
        "colab": {
          "base_uri": "https://localhost:8080/"
        },
        "id": "b50987a4",
        "outputId": "7ee19072-6310-4389-f827-0aea689ce553"
      },
      "outputs": [
        {
          "name": "stdout",
          "output_type": "stream",
          "text": [
            "[09:42:18] WARNING: C:/Users/Administrator/workspace/xgboost-win64_release_1.6.0/src/objective/regression_obj.cu:203: reg:linear is now deprecated in favor of reg:squarederror.\n"
          ]
        }
      ],
      "source": [
        "xgb_model.fit(X_train, y_train)\n",
        "xgb_pred = xgb_model.predict(X_test)"
      ]
    },
    {
      "cell_type": "code",
      "execution_count": null,
      "id": "6abc0bcc",
      "metadata": {
        "colab": {
          "base_uri": "https://localhost:8080/"
        },
        "id": "6abc0bcc",
        "outputId": "11dd8976-52cc-4098-db06-0327601dff2c"
      },
      "outputs": [
        {
          "data": {
            "text/plain": [
              "0.6543684129148859"
            ]
          },
          "execution_count": 179,
          "metadata": {},
          "output_type": "execute_result"
        }
      ],
      "source": [
        "xgb_model.score(X_test,y_test)"
      ]
    },
    {
      "cell_type": "code",
      "execution_count": null,
      "id": "SKQYAKtfdhID",
      "metadata": {
        "colab": {
          "base_uri": "https://localhost:8080/"
        },
        "id": "SKQYAKtfdhID",
        "outputId": "a9425f18-a4a9-41f9-ec19-89f7ea0c6feb"
      },
      "outputs": [
        {
          "data": {
            "text/plain": [
              "0.8458118728524925"
            ]
          },
          "execution_count": 180,
          "metadata": {},
          "output_type": "execute_result"
        }
      ],
      "source": [
        "xgb_model.score(X_train,y_train)"
      ]
    },
    {
      "cell_type": "code",
      "execution_count": null,
      "id": "149de395",
      "metadata": {
        "id": "149de395"
      },
      "outputs": [],
      "source": [
        "from sklearn.tree import DecisionTreeRegressor "
      ]
    },
    {
      "cell_type": "code",
      "execution_count": null,
      "id": "7a821eec",
      "metadata": {
        "id": "7a821eec"
      },
      "outputs": [],
      "source": [
        "dt = DecisionTreeRegressor(random_state = 42,min_samples_split = 9,splitter = 'best',\n",
        "                          max_depth = 20) "
      ]
    },
    {
      "cell_type": "code",
      "execution_count": null,
      "id": "d74df6ec",
      "metadata": {
        "colab": {
          "base_uri": "https://localhost:8080/"
        },
        "id": "d74df6ec",
        "outputId": "39123a15-1d7d-47fb-80bf-20891a4f14c1"
      },
      "outputs": [
        {
          "data": {
            "text/html": [
              "<style>#sk-container-id-6 {color: black;background-color: white;}#sk-container-id-6 pre{padding: 0;}#sk-container-id-6 div.sk-toggleable {background-color: white;}#sk-container-id-6 label.sk-toggleable__label {cursor: pointer;display: block;width: 100%;margin-bottom: 0;padding: 0.3em;box-sizing: border-box;text-align: center;}#sk-container-id-6 label.sk-toggleable__label-arrow:before {content: \"▸\";float: left;margin-right: 0.25em;color: #696969;}#sk-container-id-6 label.sk-toggleable__label-arrow:hover:before {color: black;}#sk-container-id-6 div.sk-estimator:hover label.sk-toggleable__label-arrow:before {color: black;}#sk-container-id-6 div.sk-toggleable__content {max-height: 0;max-width: 0;overflow: hidden;text-align: left;background-color: #f0f8ff;}#sk-container-id-6 div.sk-toggleable__content pre {margin: 0.2em;color: black;border-radius: 0.25em;background-color: #f0f8ff;}#sk-container-id-6 input.sk-toggleable__control:checked~div.sk-toggleable__content {max-height: 200px;max-width: 100%;overflow: auto;}#sk-container-id-6 input.sk-toggleable__control:checked~label.sk-toggleable__label-arrow:before {content: \"▾\";}#sk-container-id-6 div.sk-estimator input.sk-toggleable__control:checked~label.sk-toggleable__label {background-color: #d4ebff;}#sk-container-id-6 div.sk-label input.sk-toggleable__control:checked~label.sk-toggleable__label {background-color: #d4ebff;}#sk-container-id-6 input.sk-hidden--visually {border: 0;clip: rect(1px 1px 1px 1px);clip: rect(1px, 1px, 1px, 1px);height: 1px;margin: -1px;overflow: hidden;padding: 0;position: absolute;width: 1px;}#sk-container-id-6 div.sk-estimator {font-family: monospace;background-color: #f0f8ff;border: 1px dotted black;border-radius: 0.25em;box-sizing: border-box;margin-bottom: 0.5em;}#sk-container-id-6 div.sk-estimator:hover {background-color: #d4ebff;}#sk-container-id-6 div.sk-parallel-item::after {content: \"\";width: 100%;border-bottom: 1px solid gray;flex-grow: 1;}#sk-container-id-6 div.sk-label:hover label.sk-toggleable__label {background-color: #d4ebff;}#sk-container-id-6 div.sk-serial::before {content: \"\";position: absolute;border-left: 1px solid gray;box-sizing: border-box;top: 0;bottom: 0;left: 50%;z-index: 0;}#sk-container-id-6 div.sk-serial {display: flex;flex-direction: column;align-items: center;background-color: white;padding-right: 0.2em;padding-left: 0.2em;position: relative;}#sk-container-id-6 div.sk-item {position: relative;z-index: 1;}#sk-container-id-6 div.sk-parallel {display: flex;align-items: stretch;justify-content: center;background-color: white;position: relative;}#sk-container-id-6 div.sk-item::before, #sk-container-id-6 div.sk-parallel-item::before {content: \"\";position: absolute;border-left: 1px solid gray;box-sizing: border-box;top: 0;bottom: 0;left: 50%;z-index: -1;}#sk-container-id-6 div.sk-parallel-item {display: flex;flex-direction: column;z-index: 1;position: relative;background-color: white;}#sk-container-id-6 div.sk-parallel-item:first-child::after {align-self: flex-end;width: 50%;}#sk-container-id-6 div.sk-parallel-item:last-child::after {align-self: flex-start;width: 50%;}#sk-container-id-6 div.sk-parallel-item:only-child::after {width: 0;}#sk-container-id-6 div.sk-dashed-wrapped {border: 1px dashed gray;margin: 0 0.4em 0.5em 0.4em;box-sizing: border-box;padding-bottom: 0.4em;background-color: white;}#sk-container-id-6 div.sk-label label {font-family: monospace;font-weight: bold;display: inline-block;line-height: 1.2em;}#sk-container-id-6 div.sk-label-container {text-align: center;}#sk-container-id-6 div.sk-container {/* jupyter's `normalize.less` sets `[hidden] { display: none; }` but bootstrap.min.css set `[hidden] { display: none !important; }` so we also need the `!important` here to be able to override the default hidden behavior on the sphinx rendered scikit-learn.org. See: https://github.com/scikit-learn/scikit-learn/issues/21755 */display: inline-block !important;position: relative;}#sk-container-id-6 div.sk-text-repr-fallback {display: none;}</style><div id=\"sk-container-id-6\" class=\"sk-top-container\"><div class=\"sk-text-repr-fallback\"><pre>DecisionTreeRegressor(max_depth=20, min_samples_split=9, random_state=42)</pre><b>In a Jupyter environment, please rerun this cell to show the HTML representation or trust the notebook. <br />On GitHub, the HTML representation is unable to render, please try loading this page with nbviewer.org.</b></div><div class=\"sk-container\" hidden><div class=\"sk-item\"><div class=\"sk-estimator sk-toggleable\"><input class=\"sk-toggleable__control sk-hidden--visually\" id=\"sk-estimator-id-6\" type=\"checkbox\" checked><label for=\"sk-estimator-id-6\" class=\"sk-toggleable__label sk-toggleable__label-arrow\">DecisionTreeRegressor</label><div class=\"sk-toggleable__content\"><pre>DecisionTreeRegressor(max_depth=20, min_samples_split=9, random_state=42)</pre></div></div></div></div></div>"
            ],
            "text/plain": [
              "DecisionTreeRegressor(max_depth=20, min_samples_split=9, random_state=42)"
            ]
          },
          "execution_count": 183,
          "metadata": {},
          "output_type": "execute_result"
        }
      ],
      "source": [
        "dt.fit(X, y)"
      ]
    },
    {
      "cell_type": "code",
      "execution_count": null,
      "id": "4f78fb97",
      "metadata": {
        "id": "4f78fb97"
      },
      "outputs": [],
      "source": [
        "y_pred = dt.predict(X_test)"
      ]
    },
    {
      "cell_type": "code",
      "execution_count": null,
      "id": "478b568a",
      "metadata": {
        "colab": {
          "base_uri": "https://localhost:8080/"
        },
        "id": "478b568a",
        "outputId": "67391d4f-e5bb-4000-c36f-133aa1638179"
      },
      "outputs": [
        {
          "data": {
            "text/plain": [
              "92.4325958319844"
            ]
          },
          "execution_count": 185,
          "metadata": {},
          "output_type": "execute_result"
        }
      ],
      "source": [
        "dt.score(X_test,y_test)*100"
      ]
    },
    {
      "cell_type": "code",
      "execution_count": null,
      "id": "3d94e557",
      "metadata": {
        "colab": {
          "base_uri": "https://localhost:8080/"
        },
        "id": "3d94e557",
        "outputId": "43cd01aa-f118-4f88-c999-b8c2c3ca3038"
      },
      "outputs": [
        {
          "data": {
            "text/plain": [
              "93.47023051704197"
            ]
          },
          "execution_count": 186,
          "metadata": {},
          "output_type": "execute_result"
        }
      ],
      "source": [
        "dt.score(X_train,y_train)*100"
      ]
    },
    {
      "cell_type": "code",
      "execution_count": null,
      "id": "0a03571c",
      "metadata": {
        "colab": {
          "base_uri": "https://localhost:8080/"
        },
        "id": "0a03571c",
        "outputId": "82f71466-8f47-4a60-e0cf-3df383e25ce1"
      },
      "outputs": [
        {
          "data": {
            "text/plain": [
              "92.45854682397294"
            ]
          },
          "execution_count": 187,
          "metadata": {},
          "output_type": "execute_result"
        }
      ],
      "source": [
        "r2_score(dt.predict(X_test), y_test)*100"
      ]
    },
    {
      "cell_type": "code",
      "execution_count": null,
      "id": "0a9ca379",
      "metadata": {
        "id": "0a9ca379"
      },
      "outputs": [],
      "source": [
        "import lightgbm as lgb\n",
        "lgb_model = lgb.LGBMRegressor()\n"
      ]
    },
    {
      "cell_type": "code",
      "execution_count": null,
      "id": "b386d0a4",
      "metadata": {
        "id": "b386d0a4",
        "outputId": "91de2c88-5bb9-4331-f39f-79d45bbf8ef2"
      },
      "outputs": [
        {
          "data": {
            "text/plain": [
              "0.8886662457936909"
            ]
          },
          "execution_count": 189,
          "metadata": {},
          "output_type": "execute_result"
        }
      ],
      "source": [
        "lgb_model.fit(X_train, y_train)\n",
        "\n",
        "lgb_pred = lgb_model.predict(X_test)\n",
        "lgb_model.score(X_train,y_train)"
      ]
    },
    {
      "cell_type": "code",
      "execution_count": null,
      "id": "d5e07ce0",
      "metadata": {
        "id": "d5e07ce0",
        "outputId": "dc6ef384-ac33-4ff8-b83f-d4598e5bef4e"
      },
      "outputs": [
        {
          "data": {
            "text/plain": [
              "0.6448390506879969"
            ]
          },
          "execution_count": 190,
          "metadata": {},
          "output_type": "execute_result"
        }
      ],
      "source": [
        "lgb_model.score(X_test,y_test)"
      ]
    },
    {
      "cell_type": "code",
      "execution_count": null,
      "id": "e694ba0e",
      "metadata": {
        "colab": {
          "base_uri": "https://localhost:8080/",
          "height": 639
        },
        "id": "e694ba0e",
        "outputId": "6b9d610f-d584-4570-ba51-7eee9639cdbc"
      },
      "outputs": [
        {
          "data": {
            "text/plain": [
              "<AxesSubplot:xlabel='gross'>"
            ]
          },
          "execution_count": 191,
          "metadata": {},
          "output_type": "execute_result"
        },
        {
          "data": {
            "image/png": "[encoded data removed]",
            "text/plain": [
              "<Figure size 720x720 with 1 Axes>"
            ]
          },
          "metadata": {},
          "output_type": "display_data"
        }
      ],
      "source": [
        "plt.figure(figsize=(10,10))\n",
        "sns.regplot(y_test, lgb_pred, fit_reg=True, scatter_kws={\"s\": 100})"
      ]
    },
    {
      "cell_type": "code",
      "execution_count": null,
      "id": "a6d9780b",
      "metadata": {
        "colab": {
          "base_uri": "https://localhost:8080/"
        },
        "id": "a6d9780b",
        "outputId": "b29d9d88-da86-47b0-b3dd-e7d3ffcce210"
      },
      "outputs": [
        {
          "name": "stdout",
          "output_type": "stream",
          "text": [
            "0.6448390506879969\n"
          ]
        }
      ],
      "source": [
        "print(metrics.r2_score(y_test, lgb_pred))"
      ]
    },
    {
      "cell_type": "code",
      "execution_count": null,
      "id": "H_4xxTPxfcVw",
      "metadata": {
        "colab": {
          "base_uri": "https://localhost:8080/",
          "height": 586
        },
        "id": "H_4xxTPxfcVw",
        "outputId": "93c9fd48-8b03-46ae-8030-c461c3a46172"
      },
      "outputs": [
        {
          "data": {
            "text/plain": [
              "Text(0, 0.5, 'Train/Test Accuracy Values')"
            ]
          },
          "execution_count": 193,
          "metadata": {},
          "output_type": "execute_result"
        },
        {
          "data": {
            "image/png": "[encoded data removed]",
            "text/plain": [
              "<Figure size 1080x576 with 1 Axes>"
            ]
          },
          "metadata": {},
          "output_type": "display_data"
        }
      ],
      "source": [
        "movie = pd.DataFrame({\n",
        "\n",
        "    \"Test_Accuracy\": [0.4601615102250698, 0.6594209972794154, 0.6144921004913265, 0.9283567070280343],\n",
        "\n",
        "    \"Train_Accuracy\":[0.6775380127325399,0.9508094064644639,0.9724691328197793,0.9392697110774251]},\n",
        "\n",
        "    index = ['lr', 'rf_model', 'xgb_model', 'dt'])\n",
        "\n",
        "movie.plot(kind=\"bar\",figsize=(15, 8))\n",
        "\n",
        "plt.title('Accuracy Score Table of ML Algorithm')\n",
        "\n",
        "plt.xlabel('Algorithm Models')\n",
        "\n",
        "plt.ylabel('Train/Test Accuracy Values')"
      ]
    },
    {
      "cell_type": "markdown",
      "id": "4ef4ac93",
      "metadata": {
        "id": "4ef4ac93"
      },
      "source": [
        "<h1><font color='blue'>Saving the best Model</font></h1>"
      ]
    },
    {
      "cell_type": "code",
      "execution_count": null,
      "id": "0318a26c",
      "metadata": {
        "id": "0318a26c"
      },
      "outputs": [],
      "source": [
        "import pickle"
      ]
    },
    {
      "cell_type": "code",
      "execution_count": null,
      "id": "fe4ff73d",
      "metadata": {
        "id": "fe4ff73d"
      },
      "outputs": [],
      "source": [
        "# open a file, where you want to store the data\n",
        "file=open('decision_tree.pkl','wb')"
      ]
    },
    {
      "cell_type": "code",
      "execution_count": null,
      "id": "44993d60",
      "metadata": {
        "id": "44993d60"
      },
      "outputs": [],
      "source": [
        "# dump information to that file\n",
        "pickle.dump(dt,file)"
      ]
    },
    {
      "cell_type": "code",
      "execution_count": null,
      "id": "e35f2482",
      "metadata": {
        "id": "e35f2482"
      },
      "outputs": [],
      "source": [
        "#Load the model\n",
        "model=open('decision_tree.pkl','rb')\n",
        "forest=pickle.load(model)"
      ]
    },
    {
      "cell_type": "code",
      "execution_count": null,
      "id": "2854e4c4",
      "metadata": {
        "id": "2854e4c4"
      },
      "outputs": [],
      "source": [
        "y_prediction=dt.predict(X_test)"
      ]
    },
    {
      "cell_type": "code",
      "execution_count": null,
      "id": "38e76297",
      "metadata": {
        "id": "38e76297",
        "outputId": "4ea799af-f100-49c2-fc2f-bde3ed01c3f6"
      },
      "outputs": [
        {
          "data": {
            "text/plain": [
              "array([2.55275206e+07, 1.30316701e+06, 8.44977175e+06, 6.97000000e+07,\n",
              "       2.17353800e+05, 3.56365402e+07, 4.60550896e+07, 1.14133717e+08,\n",
              "       7.08353571e+06, 4.19923671e+07])"
            ]
          },
          "execution_count": 199,
          "metadata": {},
          "output_type": "execute_result"
        }
      ],
      "source": [
        "# Output of our project on the test dataset\n",
        "y_prediction[0:10]"
      ]
    },
    {
      "cell_type": "code",
      "execution_count": null,
      "id": "48ccc8a1",
      "metadata": {
        "id": "48ccc8a1"
      },
      "outputs": [],
      "source": []
    }
  ],
  "metadata": {
    "colab": {
      "collapsed_sections": [
        "ZF7Y0Mc_mkvv",
        "04eebd7f",
        "bcd80b22",
        "0_eUyxvMldYb",
        "90723dd0",
        "nZXa4J5Ylmst",
        "e4532551",
        "d4302a8d",
        "8eea5e6a",
        "a4173ded",
        "da3cdd00",
        "edd40b78",
        "Y5aF6KvPkwcE",
        "NBtMzsevkf0w",
        "eAHIYJkbp_9d"
      ],
      "name": "Predicting_Gross_Box_Office_Group-5.ipynb",
      "provenance": []
    },
    "kernelspec": {
      "display_name": "Python 3 (ipykernel)",
      "language": "python",
      "name": "python3"
    },
    "language_info": {
      "codemirror_mode": {
        "name": "ipython",
        "version": 3
      },
      "file_extension": ".py",
      "mimetype": "text/x-python",
      "name": "python",
      "nbconvert_exporter": "python",
      "pygments_lexer": "ipython3",
      "version": "3.9.12"
    }
  },
  "nbformat": 4,
  "nbformat_minor": 5
}
